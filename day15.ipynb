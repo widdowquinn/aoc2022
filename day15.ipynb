{
 "cells": [
  {
   "cell_type": "markdown",
   "id": "326ee45b",
   "metadata": {},
   "source": [
    "# Day 15: Beacon Exclusion Zone\n",
    "\n",
    "## Part 1\n",
    "\n",
    "You feel the ground rumble again as the distress signal leads you to a large network of subterranean tunnels. You don't have time to search them all, but you don't need to: your pack contains a set of deployable sensors that you imagine were originally built to locate lost Elves.\n",
    "\n",
    "The sensors aren't very powerful, but that's okay; your handheld device indicates that you're close enough to the source of the distress signal to use them. You pull the emergency sensor system out of your pack, hit the big button on top, and the sensors zoom off down the tunnels.\n",
    "\n",
    "Once a sensor finds a spot it thinks will give it a good reading, it attaches itself to a hard surface and begins monitoring for the nearest signal source beacon. Sensors and beacons always exist at integer coordinates. Each sensor knows its own position and can determine the position of a beacon precisely; however, sensors can only lock on to the one beacon closest to the sensor as measured by the Manhattan distance. (There is never a tie where two beacons are the same distance to a sensor.)\n",
    "\n",
    "It doesn't take long for the sensors to report back their positions and closest beacons (your puzzle input). For example:\n",
    "\n",
    "```text\n",
    "Sensor at x=2, y=18: closest beacon is at x=-2, y=15\n",
    "Sensor at x=9, y=16: closest beacon is at x=10, y=16\n",
    "Sensor at x=13, y=2: closest beacon is at x=15, y=3\n",
    "Sensor at x=12, y=14: closest beacon is at x=10, y=16\n",
    "Sensor at x=10, y=20: closest beacon is at x=10, y=16\n",
    "Sensor at x=14, y=17: closest beacon is at x=10, y=16\n",
    "Sensor at x=8, y=7: closest beacon is at x=2, y=10\n",
    "Sensor at x=2, y=0: closest beacon is at x=2, y=10\n",
    "Sensor at x=0, y=11: closest beacon is at x=2, y=10\n",
    "Sensor at x=20, y=14: closest beacon is at x=25, y=17\n",
    "Sensor at x=17, y=20: closest beacon is at x=21, y=22\n",
    "Sensor at x=16, y=7: closest beacon is at x=15, y=3\n",
    "Sensor at x=14, y=3: closest beacon is at x=15, y=3\n",
    "Sensor at x=20, y=1: closest beacon is at x=15, y=3\n",
    "```\n",
    "\n",
    "So, consider the sensor at `2,18`; the closest beacon to it is at `-2,15`. For the sensor at `9,16`, the closest beacon to it is at `10,16`.\n",
    "\n",
    "Drawing sensors as `S` and beacons as `B`, the above arrangement of sensors and beacons looks like this:\n",
    "\n",
    "```text\n",
    "               1    1    2    2\n",
    "     0    5    0    5    0    5\n",
    " 0 ....S.......................\n",
    " 1 ......................S.....\n",
    " 2 ...............S............\n",
    " 3 ................SB..........\n",
    " 4 ............................\n",
    " 5 ............................\n",
    " 6 ............................\n",
    " 7 ..........S.......S.........\n",
    " 8 ............................\n",
    " 9 ............................\n",
    "10 ....B.......................\n",
    "11 ..S.........................\n",
    "12 ............................\n",
    "13 ............................\n",
    "14 ..............S.......S.....\n",
    "15 B...........................\n",
    "16 ...........SB...............\n",
    "17 ................S..........B\n",
    "18 ....S.......................\n",
    "19 ............................\n",
    "20 ............S......S........\n",
    "21 ............................\n",
    "22 .......................B....\n",
    "```\n",
    "\n",
    "This isn't necessarily a comprehensive map of all beacons in the area, though. Because each sensor only identifies its closest beacon, if a sensor detects a beacon, you know there are no other beacons that close or closer to that sensor. There could still be beacons that just happen to not be the closest beacon to any sensor. Consider the sensor at `8,7`:\n",
    "\n",
    "```text\n",
    "               1    1    2    2\n",
    "     0    5    0    5    0    5\n",
    "-2 ..........#.................\n",
    "-1 .........###................\n",
    " 0 ....S...#####...............\n",
    " 1 .......#######........S.....\n",
    " 2 ......#########S............\n",
    " 3 .....###########SB..........\n",
    " 4 ....#############...........\n",
    " 5 ...###############..........\n",
    " 6 ..#################.........\n",
    " 7 .#########S#######S#........\n",
    " 8 ..#################.........\n",
    " 9 ...###############..........\n",
    "10 ....B############...........\n",
    "11 ..S..###########............\n",
    "12 ......#########.............\n",
    "13 .......#######..............\n",
    "14 ........#####.S.......S.....\n",
    "15 B........###................\n",
    "16 ..........#SB...............\n",
    "17 ................S..........B\n",
    "18 ....S.......................\n",
    "19 ............................\n",
    "20 ............S......S........\n",
    "21 ............................\n",
    "22 .......................B....\n",
    "```\n",
    "\n",
    "This sensor's closest beacon is at `2,10`, and so you know there are no beacons that close or closer (in any positions marked `#`).\n",
    "\n",
    "None of the detected beacons seem to be producing the distress signal, so you'll need to work out where the distress beacon is by working out where it isn't. For now, keep things simple by counting the positions where a beacon cannot possibly be along just a single row.\n",
    "\n",
    "So, suppose you have an arrangement of beacons and sensors like in the example above and, just in the row where y=10, you'd like to count the number of positions a beacon cannot possibly exist. The coverage from all sensors near that row looks like this:\n",
    "\n",
    "```text\n",
    "                 1    1    2    2\n",
    "       0    5    0    5    0    5\n",
    " 9 ...#########################...\n",
    "10 ..####B######################..\n",
    "11 .###S#############.###########.\n",
    "```\n",
    "\n",
    "In this example, in the row where y=10, there are 26 positions where a beacon cannot be present.\n",
    "\n",
    "Consult the report from the sensors you just deployed. In the row where y=2000000, how many positions cannot contain a beacon?"
   ]
  },
  {
   "cell_type": "code",
   "execution_count": 1,
   "id": "ac3e2952",
   "metadata": {},
   "outputs": [],
   "source": [
    "# Python imports\n",
    "\n",
    "import numpy as np\n",
    "import re\n",
    "\n",
    "from collections import defaultdict\n",
    "from pathlib import Path"
   ]
  },
  {
   "cell_type": "code",
   "execution_count": 2,
   "id": "db33f7db",
   "metadata": {},
   "outputs": [],
   "source": [
    "test = Path(\"data/day15_test.txt\")  # test data\n",
    "data = Path(\"data/day15_data.txt\")  # puzzle data"
   ]
  },
  {
   "cell_type": "code",
   "execution_count": 3,
   "id": "de1def04",
   "metadata": {},
   "outputs": [],
   "source": [
    "def parse_input(fpath: Path) -> list[tuple[tuple, tuple, tuple]]:\n",
    "    \"\"\"Parse puzzle input: list of sensor/beacon location pairs and distances\n",
    "    \n",
    "    :param fpath: path to puzzle input\n",
    "    \n",
    "    Returns (sensor_location, beacon_location, distance vector) where\n",
    "    the distance vector is that between the sensor and the beacon\n",
    "    \"\"\"\n",
    "    pattern = re.compile(\"Sensor at x=([\\-0-9]*), y=([\\-0-9]*): closest beacon is at x=([\\-0-9]*), y=([\\-0-9]*)\")\n",
    "    output = []\n",
    "    \n",
    "    with fpath.open() as ifh:\n",
    "        for line in [_.strip() for _ in ifh.readlines()]:\n",
    "            data = [int(_) for _ in pattern.match(line).groups()]\n",
    "            output.append(((data[0], data[1]), (data[2], data[3]),\n",
    "                           (abs(data[2] - data[0]), abs(data[3] - data[1]))))\n",
    "            \n",
    "    return output\n",
    "            \n",
    "    \n",
    "def part1(fpath: Path, row: int) -> int:\n",
    "    \"\"\"Solve the puzzle\n",
    "    \n",
    "    :param fpath:  path to puzzle input\n",
    "    :param row:  row number named in the puzzle - we're returning the\n",
    "                 number of locations on that row at which a beacon\n",
    "                 cannot exist\n",
    "    \"\"\"\n",
    "    excluded_all = set()  # hold all excluded points on the query row\n",
    "    \n",
    "    data = parse_input(fpath)\n",
    "    for sensor, beacon, dist in data:  # Iterate over sensor/beacon/distance data\n",
    "        # Calculate locations in excluded region on target row for each\n",
    "        # sensor/beacon combination\n",
    "        # Excluded region at sensor[1] + ydist has width (xdist * 2) + 1, centred on sensor[0]\n",
    "        # Each row further from sensor reduces width by 2, each closer row increases width by 2\n",
    "        # Width at sensor is then (xdist * 2) + 1 + (2 * ydist)\n",
    "        # Width at row is then (xdist * 2) + 1 + (2 * ydist) - 2 * abs(row - sensor[1])\n",
    "        senswidth = (dist[0] * 2) + 1 + (2 * dist[1])\n",
    "        row_width = senswidth - 2 * abs(row - sensor[1])  # width of excluded region\n",
    "        # Define locations on query row where there's no beacon, as a set\n",
    "        excluded_x = set(range(sensor[0] - row_width//2, sensor[0] + row_width//2 + 1))\n",
    "        excluded_all = excluded_all.union(excluded_x)\n",
    "    \n",
    "    # Remove any beacon locations present in excluded_all\n",
    "    for sensor, beacon, dist in data:\n",
    "        if beacon[1] == row:\n",
    "            excluded_all.discard(beacon[0])\n",
    "    \n",
    "    return len(excluded_all)\n",
    "        \n",
    "            "
   ]
  },
  {
   "cell_type": "code",
   "execution_count": 4,
   "id": "f04dc65a",
   "metadata": {},
   "outputs": [
    {
     "data": {
      "text/plain": [
       "26"
      ]
     },
     "execution_count": 4,
     "metadata": {},
     "output_type": "execute_result"
    }
   ],
   "source": [
    "part1(test, 10)"
   ]
  },
  {
   "cell_type": "code",
   "execution_count": 5,
   "id": "1459bb34",
   "metadata": {},
   "outputs": [
    {
     "data": {
      "text/plain": [
       "4827924"
      ]
     },
     "execution_count": 5,
     "metadata": {},
     "output_type": "execute_result"
    }
   ],
   "source": [
    "part1(data, 2000000)"
   ]
  },
  {
   "cell_type": "markdown",
   "id": "a9267a58",
   "metadata": {},
   "source": [
    "## Part 2\n",
    "\n",
    "Your handheld device indicates that the distress signal is coming from a beacon nearby. The distress beacon is not detected by any sensor, but the distress beacon must have `x` and `y` coordinates each no lower than `0` and no larger than `4000000`.\n",
    "\n",
    "To isolate the distress beacon's signal, you need to determine its tuning frequency, which can be found by multiplying its `x` coordinate by `4000000` and then adding its `y` coordinate.\n",
    "\n",
    "In the example above, the search space is smaller: instead, the `x` and `y` coordinates can each be at most 20. With this reduced search area, there is only a single position that could have a beacon: `x=14`, `y=11`. The tuning frequency for this distress beacon is `56000011`.\n",
    "\n",
    "Find the only possible position for the distress beacon. What is its tuning frequency?"
   ]
  },
  {
   "cell_type": "code",
   "execution_count": 6,
   "id": "1b2b14c5",
   "metadata": {},
   "outputs": [],
   "source": [
    "def part2(fpath: Path, lim: int) -> int:\n",
    "    \"\"\"Solve the puzzle\n",
    "    \n",
    "    :param fpath:  path to puzzle input\n",
    "    \n",
    "    This solution is rather slow. There must be a more efficient way to do this.\n",
    "    Could we get there with simultaneous equations?\n",
    "    \"\"\"    \n",
    "    data = parse_input(fpath)  # Load puzzle data\n",
    "    all_candidates = defaultdict(int)  # holds locations in scope (within limits) that might be distress beacon\n",
    "    \n",
    "    # The point we're looking for is exactly dist+1 away from any nearest sensor\n",
    "    # The solution is isolated, so must be bounded by at least four sensors at dist-1\n",
    "    # We iterate over all sensors, generating dist+1 points, and see which of those\n",
    "    # points is dist+1 points from at least 4 sensors\n",
    "    for sensor, beacon, dist in data:\n",
    "        dist = sum(dist)\n",
    "        # Scan from leftmost sensor-excluded region, populating with\n",
    "        # the points dist + 1 from the sensor\n",
    "        for xpos in range(max(0, sensor[0] - (dist + 1)), min(sensor[0] + (dist + 1), lim)):\n",
    "            yshift = abs(abs(xpos - sensor[0]) - abs(dist + 1))  # distance up/down to candidate\n",
    "            if 0 <= (sensor[1] + yshift) <= lim:\n",
    "                all_candidates[(xpos, sensor[1] + yshift)] += 1\n",
    "            if 0 <= (sensor[1] - yshift) <= lim:\n",
    "                all_candidates[(xpos, sensor[1] - yshift)] += 1\n",
    "\n",
    "    # Identify locations with four dist+1 sensors, that are within the limits\n",
    "    # These are our candidate solutions\n",
    "    locations = {_[0] for _ in all_candidates.items() if _[1] >= 4}\n",
    "    if len(locations) == 1:  # We have found the only solution\n",
    "        x, y = tuple(list(locations)[0])\n",
    "        return 4000000 * x + y\n",
    "\n",
    "    # If we've more than one solution, we need to exclude disallowed options\n",
    "    # Exclude those within range of a sensor\n",
    "    for sensor, beacon, dist in data:\n",
    "        dist = sum(dist)\n",
    "        exclude = set()\n",
    "        for location in locations:\n",
    "            if abs(sensor[0] - location[0]) + abs(sensor[1] - location[1]) <= dist:\n",
    "                exclude.add(location)\n",
    "        locations = locations.difference(exclude)    \n",
    "    \n",
    "    # Return the solution (we trust there is only one)\n",
    "    x, y = tuple(list(locations)[0])\n",
    "    return 4000000 * x + y\n"
   ]
  },
  {
   "cell_type": "code",
   "execution_count": 7,
   "id": "5fa32396",
   "metadata": {},
   "outputs": [
    {
     "data": {
      "text/plain": [
       "56000011"
      ]
     },
     "execution_count": 7,
     "metadata": {},
     "output_type": "execute_result"
    }
   ],
   "source": [
    "part2(test, 20)"
   ]
  },
  {
   "cell_type": "code",
   "execution_count": 8,
   "id": "d2bfbc52",
   "metadata": {},
   "outputs": [
    {
     "name": "stdout",
     "output_type": "stream",
     "text": [
      "12977110973564\n",
      "41.07965898513794s\n"
     ]
    }
   ],
   "source": [
    "import time\n",
    "\n",
    "t0 = time.time()\n",
    "print(part2(data, 4000000))\n",
    "print(f\"{time.time() - t0}s\")"
   ]
  },
  {
   "cell_type": "code",
   "execution_count": null,
   "id": "507c593b",
   "metadata": {},
   "outputs": [],
   "source": []
  }
 ],
 "metadata": {
  "kernelspec": {
   "display_name": "Python 3 (ipykernel)",
   "language": "python",
   "name": "python3"
  },
  "language_info": {
   "codemirror_mode": {
    "name": "ipython",
    "version": 3
   },
   "file_extension": ".py",
   "mimetype": "text/x-python",
   "name": "python",
   "nbconvert_exporter": "python",
   "pygments_lexer": "ipython3",
   "version": "3.10.8"
  }
 },
 "nbformat": 4,
 "nbformat_minor": 5
}
