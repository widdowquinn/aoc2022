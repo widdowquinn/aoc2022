{
 "cells": [
  {
   "cell_type": "markdown",
   "id": "6c8b55ed",
   "metadata": {},
   "source": [
    "# Day 2: Rock Paper Scissors\n",
    "\n",
    "## Part 1\n",
    "\n",
    "The Elves begin to set up camp on the beach. To decide whose tent gets to be closest to the snack storage, a giant Rock Paper Scissors tournament is already in progress.\n",
    "\n",
    "Rock Paper Scissors is a game between two players. Each game contains many rounds; in each round, the players each simultaneously choose one of Rock, Paper, or Scissors using a hand shape. Then, a winner for that round is selected: Rock defeats Scissors, Scissors defeats Paper, and Paper defeats Rock. If both players choose the same shape, the round instead ends in a draw.\n",
    "\n",
    "Appreciative of your help yesterday, one Elf gives you an encrypted strategy guide (your puzzle input) that they say will be sure to help you win. \"The first column is what your opponent is going to play: A for Rock, B for Paper, and C for Scissors. The second column--\" Suddenly, the Elf is called away to help with someone's tent.\n",
    "\n",
    "The second column, you reason, must be what you should play in response: X for Rock, Y for Paper, and Z for Scissors. Winning every time would be suspicious, so the responses must have been carefully chosen.\n",
    "\n",
    "The winner of the whole tournament is the player with the highest score. Your total score is the sum of your scores for each round. The score for a single round is the score for the shape you selected (1 for Rock, 2 for Paper, and 3 for Scissors) plus the score for the outcome of the round (0 if you lost, 3 if the round was a draw, and 6 if you won).\n",
    "\n",
    "Since you can't be sure if the Elf is trying to help you or trick you, you should calculate the score you would get if you were to follow the strategy guide.\n",
    "\n",
    "For example, suppose you were given the following strategy guide:\n",
    "\n",
    "```text\n",
    "A Y\n",
    "B X\n",
    "C Z\n",
    "```\n",
    "\n",
    "This strategy guide predicts and recommends the following:\n",
    "\n",
    "- In the first round, your opponent will choose Rock (A), and you should choose Paper (Y). This ends in a win for you with a score of 8 (2 because you chose Paper + 6 because you won).\n",
    "- In the second round, your opponent will choose Paper (B), and you should choose Rock (X). This ends in a loss for you with a score of 1 (1 + 0).\n",
    "- The third round is a draw with both players choosing Scissors, giving you a score of 3 + 3 = 6.\n",
    "\n",
    "In this example, if you were to follow the strategy guide, you would get a total score of 15 (8 + 1 + 6).\n",
    "\n",
    "What would your total score be if everything goes exactly according to your strategy guide?"
   ]
  },
  {
   "cell_type": "code",
   "execution_count": 1,
   "id": "1017430a",
   "metadata": {},
   "outputs": [],
   "source": [
    "# Python imports\n",
    "\n",
    "from pathlib import Path"
   ]
  },
  {
   "cell_type": "code",
   "execution_count": 2,
   "id": "49195481",
   "metadata": {},
   "outputs": [],
   "source": [
    "test = Path(\"data/day02_test.txt\")  # test data\n",
    "data = Path(\"data/day02_data.txt\")  # puzzle data"
   ]
  },
  {
   "cell_type": "code",
   "execution_count": 3,
   "id": "4cd0d03b",
   "metadata": {},
   "outputs": [],
   "source": [
    "def parse_strategy(fpath: Path) -> list[list]:\n",
    "    \"\"\"Load strategy (puzzle input) data\n",
    "    \n",
    "    :param fpath:  path to puzzle data\n",
    "    \"\"\"\n",
    "    strategy = []\n",
    "    with fpath.open() as ifh:\n",
    "        for line in [_.strip().split() for _ in ifh.readlines()]:\n",
    "            strategy.append(tuple(line))\n",
    "            \n",
    "    # Puzzle data is split into tuple pairs of (opponent, me) plays\n",
    "    return strategy\n",
    "\n",
    "def score_round(round: tuple[str, str], strategy_dict: dict, score_dict: dict) -> int:\n",
    "    \"\"\"Return score for a single round of the game\n",
    "    \n",
    "    :param round:  a single (opponent, me) game round\n",
    "    :param strategy_dict:  dict of what each symbol means (rock, paper, scissors)\n",
    "    :param score_dict:  dict of game outcomes with this strategy    \n",
    "    \"\"\"\n",
    "    opp, me = (strategy_dict[_] for _ in round)\n",
    "    return score_dict[opp][me]\n",
    "            \n",
    "    return score\n",
    "\n",
    "def play(strategy: list[tuple], strategy_dict: dict, score_dict: dict) -> int:\n",
    "    \"\"\"Iterate over the strategy and report accumulated score\n",
    "    \n",
    "    :param strategy:  order of game events\n",
    "    :param strategy_dict:  dict of what each symbol means (rock, paper, scissors)\n",
    "    :param score_dict:  dict of game outcomes with this strategy\n",
    "    \"\"\"\n",
    "    score = 0\n",
    "    for round in strategy:\n",
    "        score += score_round(round, strategy_dict, score_dict)\n",
    "        \n",
    "    return score\n",
    "    \n",
    "def part1(fpath: Path) -> int:\n",
    "    \"\"\"Play the strategy for this puzzle solution\n",
    "    \n",
    "    :param fpath:  path to puzzle data\n",
    "    \"\"\"\n",
    "    # Translate the strategy for readability\n",
    "    strategy_dict = {\"A\": \"rock\", \"B\": \"paper\", \"C\": \"scissors\",\n",
    "                     \"X\": \"rock\", \"Y\": \"paper\", \"Z\": \"scissors\"}\n",
    "\n",
    "    # Defines the opposition's play, then my responses\n",
    "    score_dict = {\"rock\": {\"rock\": 1 + 3, \"paper\": 2 + 6, \"scissors\": 3 + 0},\n",
    "                  \"paper\": {\"rock\": 1 + 0, \"paper\": 2 + 3, \"scissors\": 3 + 6},\n",
    "                  \"scissors\": {\"rock\": 1 + 6, \"paper\": 2 + 0, \"scissors\": 3 + 3}}\n",
    "\n",
    "    strategy = parse_strategy(fpath)  # load strategy (puzzle data)\n",
    "    score = play(strategy, strategy_dict, score_dict)  # play the strategy\n",
    "    \n",
    "    return score"
   ]
  },
  {
   "cell_type": "code",
   "execution_count": 4,
   "id": "08d68ffa",
   "metadata": {},
   "outputs": [
    {
     "data": {
      "text/plain": [
       "15"
      ]
     },
     "execution_count": 4,
     "metadata": {},
     "output_type": "execute_result"
    }
   ],
   "source": [
    "part1(test)"
   ]
  },
  {
   "cell_type": "code",
   "execution_count": 5,
   "id": "dc142da2",
   "metadata": {},
   "outputs": [
    {
     "data": {
      "text/plain": [
       "12156"
      ]
     },
     "execution_count": 5,
     "metadata": {},
     "output_type": "execute_result"
    }
   ],
   "source": [
    "part1(data)"
   ]
  },
  {
   "cell_type": "markdown",
   "id": "87a99dda",
   "metadata": {},
   "source": [
    "## Part 2\n",
    "\n",
    "The Elf finishes helping with the tent and sneaks back over to you. \"Anyway, the second column says how the round needs to end: X means you need to lose, Y means you need to end the round in a draw, and Z means you need to win. Good luck!\"\n",
    "\n",
    "The total score is still calculated in the same way, but now you need to figure out what shape to choose so the round ends as indicated. The example above now goes like this:\n",
    "\n",
    "    In the first round, your opponent will choose Rock (A), and you need the round to end in a draw (Y), so you also choose Rock. This gives you a score of 1 + 3 = 4.\n",
    "    In the second round, your opponent will choose Paper (B), and you choose Rock so you lose (X) with a score of 1 + 0 = 1.\n",
    "    In the third round, you will defeat your opponent's Scissors with Rock for a score of 1 + 6 = 7.\n",
    "\n",
    "Now that you're correctly decrypting the ultra top secret strategy guide, you would get a total score of 12.\n",
    "\n",
    "Following the Elf's instructions for the second column, what would your total score be if everything goes exactly according to your strategy guide?"
   ]
  },
  {
   "cell_type": "code",
   "execution_count": 6,
   "id": "2f3e466e",
   "metadata": {},
   "outputs": [],
   "source": [
    "def part2(fpath: Path) -> int:\n",
    "    \"\"\"Play the strategy for this puzzle solution\n",
    "    \n",
    "    :param fpath:  path to puzzle data\n",
    "    \"\"\"\n",
    "\n",
    "    # Translate the strategy for readability\n",
    "    strategy_dict = {\"A\": \"rock\", \"B\": \"paper\", \"C\": \"scissors\",\n",
    "                     \"X\": \"lose\", \"Y\": \"draw\", \"Z\": \"win\"}\n",
    "\n",
    "    # Defines the opposition's play, then the outcome\n",
    "    score_dict = {\"rock\": {\"win\": 2 + 6, \"lose\": 3 + 0, \"draw\": 1 + 3},\n",
    "                  \"paper\": {\"win\": 3 + 6, \"lose\": 1 + 0, \"draw\": 2 + 3},\n",
    "                  \"scissors\": {\"win\": 1 + 6, \"lose\": 2 + 0, \"draw\": 3 + 3}}    \n",
    "\n",
    "    strategy = parse_strategy(fpath)  # load in the playing strategy (puzzle data)\n",
    "    score = play(strategy, strategy_dict, score_dict)  # play the game with the loaded strategy\n",
    "    return score"
   ]
  },
  {
   "cell_type": "code",
   "execution_count": 7,
   "id": "311841ad",
   "metadata": {},
   "outputs": [
    {
     "data": {
      "text/plain": [
       "12"
      ]
     },
     "execution_count": 7,
     "metadata": {},
     "output_type": "execute_result"
    }
   ],
   "source": [
    "part2(test)"
   ]
  },
  {
   "cell_type": "code",
   "execution_count": 8,
   "id": "0e29a3d1",
   "metadata": {},
   "outputs": [
    {
     "data": {
      "text/plain": [
       "10835"
      ]
     },
     "execution_count": 8,
     "metadata": {},
     "output_type": "execute_result"
    }
   ],
   "source": [
    "part2(data)"
   ]
  },
  {
   "cell_type": "code",
   "execution_count": null,
   "id": "aca43b5a",
   "metadata": {},
   "outputs": [],
   "source": []
  }
 ],
 "metadata": {
  "kernelspec": {
   "display_name": "Python 3 (ipykernel)",
   "language": "python",
   "name": "python3"
  },
  "language_info": {
   "codemirror_mode": {
    "name": "ipython",
    "version": 3
   },
   "file_extension": ".py",
   "mimetype": "text/x-python",
   "name": "python",
   "nbconvert_exporter": "python",
   "pygments_lexer": "ipython3",
   "version": "3.10.8"
  }
 },
 "nbformat": 4,
 "nbformat_minor": 5
}
