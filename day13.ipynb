{
 "cells": [
  {
   "cell_type": "markdown",
   "id": "817058b8",
   "metadata": {},
   "source": [
    "# Day 13: Distress Signal\n",
    "\n",
    "## Part 1\n",
    "\n",
    "You climb the hill and again try contacting the Elves. However, you instead receive a signal you weren't expecting: a distress signal.\n",
    "\n",
    "Your handheld device must still not be working properly; the packets from the distress signal got decoded out of order. You'll need to re-order the list of received packets (your puzzle input) to decode the message.\n",
    "\n",
    "Your list consists of pairs of packets; pairs are separated by a blank line. You need to identify how many pairs of packets are in the right order.\n",
    "\n",
    "For example:\n",
    "\n",
    "```text\n",
    "[1,1,3,1,1]\n",
    "[1,1,5,1,1]\n",
    "\n",
    "[[1],[2,3,4]]\n",
    "[[1],4]\n",
    "\n",
    "[9]\n",
    "[[8,7,6]]\n",
    "\n",
    "[[4,4],4,4]\n",
    "[[4,4],4,4,4]\n",
    "\n",
    "[7,7,7,7]\n",
    "[7,7,7]\n",
    "\n",
    "[]\n",
    "[3]\n",
    "\n",
    "[[[]]]\n",
    "[[]]\n",
    "\n",
    "[1,[2,[3,[4,[5,6,7]]]],8,9]\n",
    "[1,[2,[3,[4,[5,6,0]]]],8,9]\n",
    "```\n",
    "\n",
    "Packet data consists of lists and integers. Each list starts with [, ends with ], and contains zero or more comma-separated values (either integers or other lists). Each packet is always a list and appears on its own line.\n",
    "\n",
    "When comparing two values, the first value is called left and the second value is called right. Then:\n",
    "\n",
    "- If both values are integers, the lower integer should come first. If the left integer is lower than the right integer, the inputs are in the right order. If the left integer is higher than the right integer, the inputs are not in the right order. Otherwise, the inputs are the same integer; continue checking the next part of the input.\n",
    "- If both values are lists, compare the first value of each list, then the second value, and so on. If the left list runs out of items first, the inputs are in the right order. If the right list runs out of items first, the inputs are not in the right order. If the lists are the same length and no comparison makes a decision about the order, continue checking the next part of the input.\n",
    "- If exactly one value is an integer, convert the integer to a list which contains that integer as its only value, then retry the comparison. For example, if comparing [0,0,0] and 2, convert the right value to [2] (a list containing 2); the result is then found by instead comparing [0,0,0] and [2].\n",
    "\n",
    "Using these rules, you can determine which of the pairs in the example are in the right order:\n",
    "\n",
    "```text\n",
    "== Pair 1 ==\n",
    "- Compare [1,1,3,1,1] vs [1,1,5,1,1]\n",
    "  - Compare 1 vs 1\n",
    "  - Compare 1 vs 1\n",
    "  - Compare 3 vs 5\n",
    "    - Left side is smaller, so inputs are in the right order\n",
    "\n",
    "== Pair 2 ==\n",
    "- Compare [[1],[2,3,4]] vs [[1],4]\n",
    "  - Compare [1] vs [1]\n",
    "    - Compare 1 vs 1\n",
    "  - Compare [2,3,4] vs 4\n",
    "    - Mixed types; convert right to [4] and retry comparison\n",
    "    - Compare [2,3,4] vs [4]\n",
    "      - Compare 2 vs 4\n",
    "        - Left side is smaller, so inputs are in the right order\n",
    "\n",
    "== Pair 3 ==\n",
    "- Compare [9] vs [[8,7,6]]\n",
    "  - Compare 9 vs [8,7,6]\n",
    "    - Mixed types; convert left to [9] and retry comparison\n",
    "    - Compare [9] vs [8,7,6]\n",
    "      - Compare 9 vs 8\n",
    "        - Right side is smaller, so inputs are not in the right order\n",
    "\n",
    "== Pair 4 ==\n",
    "- Compare [[4,4],4,4] vs [[4,4],4,4,4]\n",
    "  - Compare [4,4] vs [4,4]\n",
    "    - Compare 4 vs 4\n",
    "    - Compare 4 vs 4\n",
    "  - Compare 4 vs 4\n",
    "  - Compare 4 vs 4\n",
    "  - Left side ran out of items, so inputs are in the right order\n",
    "\n",
    "== Pair 5 ==\n",
    "- Compare [7,7,7,7] vs [7,7,7]\n",
    "  - Compare 7 vs 7\n",
    "  - Compare 7 vs 7\n",
    "  - Compare 7 vs 7\n",
    "  - Right side ran out of items, so inputs are not in the right order\n",
    "\n",
    "== Pair 6 ==\n",
    "- Compare [] vs [3]\n",
    "  - Left side ran out of items, so inputs are in the right order\n",
    "\n",
    "== Pair 7 ==\n",
    "- Compare [[[]]] vs [[]]\n",
    "  - Compare [[]] vs []\n",
    "    - Right side ran out of items, so inputs are not in the right order\n",
    "\n",
    "== Pair 8 ==\n",
    "- Compare [1,[2,[3,[4,[5,6,7]]]],8,9] vs [1,[2,[3,[4,[5,6,0]]]],8,9]\n",
    "  - Compare 1 vs 1\n",
    "  - Compare [2,[3,[4,[5,6,7]]]] vs [2,[3,[4,[5,6,0]]]]\n",
    "    - Compare 2 vs 2\n",
    "    - Compare [3,[4,[5,6,7]]] vs [3,[4,[5,6,0]]]\n",
    "      - Compare 3 vs 3\n",
    "      - Compare [4,[5,6,7]] vs [4,[5,6,0]]\n",
    "        - Compare 4 vs 4\n",
    "        - Compare [5,6,7] vs [5,6,0]\n",
    "          - Compare 5 vs 5\n",
    "          - Compare 6 vs 6\n",
    "          - Compare 7 vs 0\n",
    "            - Right side is smaller, so inputs are not in the right order\n",
    "```\n",
    "\n",
    "What are the indices of the pairs that are already in the right order? (The first pair has index 1, the second pair has index 2, and so on.) In the above example, the pairs in the right order are 1, 2, 4, and 6; the sum of these indices is 13.\n",
    "\n",
    "Determine which pairs of packets are already in the right order. What is the sum of the indices of those pairs?\n"
   ]
  },
  {
   "cell_type": "code",
   "execution_count": 1,
   "id": "617b54ba",
   "metadata": {},
   "outputs": [],
   "source": [
    "# Python imports\n",
    "\n",
    "from ast import literal_eval  # safe eval\n",
    "from functools import cmp_to_key  # convert a comparator function to a sort key\n",
    "from math import prod\n",
    "from pathlib import Path"
   ]
  },
  {
   "cell_type": "code",
   "execution_count": 2,
   "id": "fd27b9cf",
   "metadata": {},
   "outputs": [],
   "source": [
    "test = Path(\"data/day13_test.txt\")  # test data\n",
    "data = Path(\"data/day13_data.txt\")  # puzzle data"
   ]
  },
  {
   "cell_type": "code",
   "execution_count": 3,
   "id": "6efc8ef9",
   "metadata": {},
   "outputs": [],
   "source": [
    "def parse_input(fpath: Path) -> list[list]:\n",
    "    \"\"\"Parse puzzle input\n",
    "    \n",
    "    :param fpath: path to puzzle input\n",
    "    \"\"\"\n",
    "    packets = []  # holds list of packet pairs\n",
    "    \n",
    "    with fpath.open() as ifh:\n",
    "        packet = []  # holds packet pair\n",
    "        for line in [_.strip() for _ in ifh.readlines()]:\n",
    "            if len(line):  # if there is line content, it's part of a packet\n",
    "                packet.append(literal_eval(line))  # let's pretend this is safe!\n",
    "            else:  # otherwise it's a divider\n",
    "                packets.append(packet)  # add last packet pair to packets list\n",
    "                packet = []  # new container for a packet pair\n",
    "        if len(packet):  # EOF - add last packet to list\n",
    "            packets.append(packet)\n",
    "                \n",
    "    return packets\n",
    "\n",
    "\n",
    "def is_ordered(left, right) -> int:\n",
    "    \"\"\"Comparator function for ordering packets\n",
    "    \n",
    "    :param left:  left packet value\n",
    "    :param right:  right packet value\n",
    "    \n",
    "    Returns 1 if packets are ordered, 0 if equal, -1 if not ordered\n",
    "    \"\"\"\n",
    "    # Easy case: left and right values are integers\n",
    "    if isinstance(left, int) and isinstance(right, int):\n",
    "        if left < right:\n",
    "            return 1\n",
    "        elif left == right:\n",
    "            return 0\n",
    "        else:  # left > right, so not ordered\n",
    "            return -1\n",
    "    # If only one of left/right is an integer, make it a list and compare\n",
    "    elif isinstance(left, int):   # right is list\n",
    "        return is_ordered([left], right)\n",
    "    elif isinstance(right, int):  # left is list\n",
    "        return is_ordered(left, [right])\n",
    "    else:  # left and right are lists - compare lists\n",
    "        for lval, rval in zip(left, right):  # iterate over paired list values...\n",
    "            result = is_ordered(lval, rval)  # and compare them\n",
    "            if result != 0:  # only return if an ordering is possible\n",
    "                return result\n",
    "        # ordering not possible on values, so break tie on length\n",
    "        if len(right) < len(left):  # right side shorter: not ordered\n",
    "            return - 1\n",
    "        elif len(right) == len(left):  # equal lengths: tie\n",
    "            return 0\n",
    "        elif len(right) > len(left):  # left side shorter: ordered\n",
    "            return 1\n",
    "\n",
    "def part1(fpath: Path) -> int:\n",
    "    \"\"\"Solve the puzzle\n",
    "    \n",
    "    :param fpath:  path to puzzle input\n",
    "    \"\"\"\n",
    "    packets = parse_input(fpath)\n",
    "    ordered_packets = [idx + 1 for (idx, pkt) in enumerate(packets) if is_ordered(*pkt) == 1]\n",
    "    return sum(ordered_packets)\n"
   ]
  },
  {
   "cell_type": "code",
   "execution_count": 4,
   "id": "e9489f40",
   "metadata": {},
   "outputs": [
    {
     "data": {
      "text/plain": [
       "13"
      ]
     },
     "execution_count": 4,
     "metadata": {},
     "output_type": "execute_result"
    }
   ],
   "source": [
    "part1(test)"
   ]
  },
  {
   "cell_type": "code",
   "execution_count": 5,
   "id": "8598b4af",
   "metadata": {},
   "outputs": [
    {
     "data": {
      "text/plain": [
       "5760"
      ]
     },
     "execution_count": 5,
     "metadata": {},
     "output_type": "execute_result"
    }
   ],
   "source": [
    "part1(data)"
   ]
  },
  {
   "cell_type": "markdown",
   "id": "c706d7a5",
   "metadata": {},
   "source": [
    "## Part 2\n",
    "\n",
    "Now, you just need to put all of the packets in the right order. Disregard the blank lines in your list of received packets.\n",
    "\n",
    "The distress signal protocol also requires that you include two additional divider packets:\n",
    "\n",
    "[[2]]\n",
    "[[6]]\n",
    "\n",
    "Using the same rules as before, organize all packets - the ones in your list of received packets as well as the two divider packets - into the correct order.\n",
    "\n",
    "For the example above, the result of putting the packets in the correct order is:\n",
    "\n",
    "[]\n",
    "[[]]\n",
    "[[[]]]\n",
    "[1,1,3,1,1]\n",
    "[1,1,5,1,1]\n",
    "[[1],[2,3,4]]\n",
    "[1,[2,[3,[4,[5,6,0]]]],8,9]\n",
    "[1,[2,[3,[4,[5,6,7]]]],8,9]\n",
    "[[1],4]\n",
    "[[2]]\n",
    "[3]\n",
    "[[4,4],4,4]\n",
    "[[4,4],4,4,4]\n",
    "[[6]]\n",
    "[7,7,7]\n",
    "[7,7,7,7]\n",
    "[[8,7,6]]\n",
    "[9]\n",
    "\n",
    "Afterward, locate the divider packets. To find the decoder key for this distress signal, you need to determine the indices of the two divider packets and multiply them together. (The first packet is at index 1, the second packet is at index 2, and so on.) In this example, the divider packets are 10th and 14th, and so the decoder key is 140.\n",
    "\n",
    "Organize all of the packets into the correct order. What is the decoder key for the distress signal?"
   ]
  },
  {
   "cell_type": "code",
   "execution_count": 6,
   "id": "76d962c4",
   "metadata": {},
   "outputs": [],
   "source": [
    "def part2(fpath: Path) -> int:\n",
    "    \"\"\"Solve the puzzle\n",
    "    \n",
    "    :param fpath:  path to puzzle input\n",
    "    \"\"\"\n",
    "    packets = parse_input(fpath)  # load packet pairs\n",
    "    packets = [pkt for packet in packets for pkt in packet]  # flatten packets\n",
    "    dividers = [[[2]], [[6]]]\n",
    "    packets += dividers  # add dividers\n",
    "    \n",
    "    # We can sort our packets because we have a comparator function (returns <0 for\n",
    "    # unordered, 0 for equal, >0 for ordered), using cmp_to_key() from functools\n",
    "    packets = sorted(packets, key=cmp_to_key(is_ordered), reverse=True)  # sort packets\n",
    "    return prod([packets.index(_) + 1 for _ in dividers])"
   ]
  },
  {
   "cell_type": "code",
   "execution_count": 7,
   "id": "93df3c2d",
   "metadata": {},
   "outputs": [
    {
     "data": {
      "text/plain": [
       "140"
      ]
     },
     "execution_count": 7,
     "metadata": {},
     "output_type": "execute_result"
    }
   ],
   "source": [
    "part2(test)"
   ]
  },
  {
   "cell_type": "code",
   "execution_count": 8,
   "id": "2dfdfc85",
   "metadata": {},
   "outputs": [
    {
     "data": {
      "text/plain": [
       "26670"
      ]
     },
     "execution_count": 8,
     "metadata": {},
     "output_type": "execute_result"
    }
   ],
   "source": [
    "part2(data)"
   ]
  },
  {
   "cell_type": "code",
   "execution_count": null,
   "id": "87cc355f",
   "metadata": {},
   "outputs": [],
   "source": []
  }
 ],
 "metadata": {
  "kernelspec": {
   "display_name": "Python 3 (ipykernel)",
   "language": "python",
   "name": "python3"
  },
  "language_info": {
   "codemirror_mode": {
    "name": "ipython",
    "version": 3
   },
   "file_extension": ".py",
   "mimetype": "text/x-python",
   "name": "python",
   "nbconvert_exporter": "python",
   "pygments_lexer": "ipython3",
   "version": "3.10.8"
  }
 },
 "nbformat": 4,
 "nbformat_minor": 5
}
