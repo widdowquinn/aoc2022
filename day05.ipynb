{
 "cells": [
  {
   "cell_type": "markdown",
   "id": "d348770a",
   "metadata": {},
   "source": [
    "# Day 5: Supply Stacks\n",
    "\n",
    "## Part 1\n",
    "\n",
    "The expedition can depart as soon as the final supplies have been unloaded from the ships. Supplies are stored in stacks of marked crates, but because the needed supplies are buried under many other crates, the crates need to be rearranged.\n",
    "\n",
    "The ship has a giant cargo crane capable of moving crates between stacks. To ensure none of the crates get crushed or fall over, the crane operator will rearrange them in a series of carefully-planned steps. After the crates are rearranged, the desired crates will be at the top of each stack.\n",
    "\n",
    "The Elves don't want to interrupt the crane operator during this delicate procedure, but they forgot to ask her which crate will end up where, and they want to be ready to unload them as soon as possible so they can embark.\n",
    "\n",
    "They do, however, have a drawing of the starting stacks of crates and the rearrangement procedure (your puzzle input). For example:\n",
    "\n",
    "```text\n",
    "    [D]    \n",
    "[N] [C]    \n",
    "[Z] [M] [P]\n",
    " 1   2   3 \n",
    "\n",
    "move 1 from 2 to 1\n",
    "move 3 from 1 to 3\n",
    "move 2 from 2 to 1\n",
    "move 1 from 1 to 2\n",
    "```\n",
    "\n",
    "In this example, there are three stacks of crates. Stack 1 contains two crates: crate `Z` is on the bottom, and crate `N` is on top. Stack 2 contains three crates; from bottom to top, they are crates `M`, `C`, and `D`. Finally, stack 3 contains a single crate, `P`.\n",
    "\n",
    "Then, the rearrangement procedure is given. In each step of the procedure, a quantity of crates is moved from one stack to a different stack. In the first step of the above rearrangement procedure, one crate is moved from stack 2 to stack 1, resulting in this configuration:\n",
    "\n",
    "```text\n",
    "[D]        \n",
    "[N] [C]    \n",
    "[Z] [M] [P]\n",
    " 1   2   3 \n",
    "```\n",
    "\n",
    "In the second step, three crates are moved from stack 1 to stack 3. Crates are moved one at a time, so the first crate to be moved (`D`) ends up below the second and third crates:\n",
    "\n",
    "```text\n",
    "        [Z]\n",
    "        [N]\n",
    "    [C] [D]\n",
    "    [M] [P]\n",
    " 1   2   3\n",
    "```\n",
    "\n",
    "Then, both crates are moved from stack 2 to stack 1. Again, because crates are moved one at a time, crate `C` ends up below crate `M`:\n",
    "\n",
    "```text\n",
    "        [Z]\n",
    "        [N]\n",
    "[M]     [D]\n",
    "[C]     [P]\n",
    " 1   2   3\n",
    "```\n",
    "\n",
    "Finally, one crate is moved from stack 1 to stack 2:\n",
    "\n",
    "```text\n",
    "        [Z]\n",
    "        [N]\n",
    "        [D]\n",
    "[C] [M] [P]\n",
    " 1   2   3\n",
    "```\n",
    "\n",
    "The Elves just need to know which crate will end up on top of each stack; in this example, the top crates are `C` in stack 1, `M` in stack 2, and `Z` in stack 3, so you should combine these together and give the Elves the message `CMZ`.\n",
    "\n",
    "After the rearrangement procedure completes, what crate ends up on top of each stack?"
   ]
  },
  {
   "cell_type": "code",
   "execution_count": 1,
   "id": "ad29039d",
   "metadata": {},
   "outputs": [],
   "source": [
    "# Python imports\n",
    "\n",
    "from pathlib import Path"
   ]
  },
  {
   "cell_type": "code",
   "execution_count": 2,
   "id": "2ab4382f",
   "metadata": {},
   "outputs": [],
   "source": [
    "test = Path(\"data/day05_test.txt\")  # test data\n",
    "data = Path(\"data/day05_data.txt\")  # puzzle data"
   ]
  },
  {
   "cell_type": "code",
   "execution_count": 3,
   "id": "13d3cecd",
   "metadata": {},
   "outputs": [],
   "source": [
    "def parse_input(fpath: Path) -> tuple[list[list[str]], list[tuple[int, int, int]]]:\n",
    "    \"\"\"Parse puzzle input into stack and instruction sets\n",
    "    \n",
    "    :param fpath: path to puzzle input\n",
    "    \"\"\"\n",
    "    # Parse files\n",
    "    with fpath.open() as ifh:\n",
    "        instructions = []  # list of instructions as (num, from, to) tuples\n",
    "        stacks = []  # list of stacks; each stack is a list and pops from the left\n",
    "        \n",
    "        # Parse stacks/instructions\n",
    "        state = \"stacks\"\n",
    "        for line in [_.rstrip() for _ in ifh.readlines()]:\n",
    "            if 0 == len(line.strip()):  # skip blank lines\n",
    "                continue\n",
    "            elif state == \"stacks\":  # if we're parsing stacks...\n",
    "                boxes = [line[idx:idx + 4] for idx in range(0, len(line), 4)]\n",
    "                while len(stacks) < len(boxes):  # add new empty stack if required\n",
    "                    stacks.append([])\n",
    "                if boxes[0].strip() == \"1\":\n",
    "                    state = \"instructions\"  # Move to parsing instructions\n",
    "                else:\n",
    "                    for idx, box in enumerate(boxes):  # Add boxes to stacks\n",
    "                        if \"[\" in box:\n",
    "                            stacks[idx].append(box)                                                \n",
    "            elif state == \"instructions\":  # if we're parsing instructions ...\n",
    "                instr = line.strip().split()\n",
    "                instructions.append((int(instr[1]), int(instr[3]), int(instr[5])))  # num, from, to\n",
    "        \n",
    "        return stacks, instructions\n",
    "\n",
    "def move_boxes(stacks: list[list[str]], instructions: list[tuple[int, int, int]]) -> list[list[str]]:\n",
    "    \"\"\"Return stack arrangement after Cratemover 9000 action\n",
    "    \n",
    "    :param stacks:  initial arrangement of stacks\n",
    "    :param instructions:  instructions for moving boxes around stacks\n",
    "    \"\"\"    \n",
    "    for num, stfr, stto in instructions:\n",
    "        # Move num boxes from stfr to stto\n",
    "        for _ in range(num):\n",
    "            stacks[stto-1] = [stacks[stfr-1].pop(0)] + stacks[stto-1]\n",
    "            \n",
    "    return stacks\n",
    "     \n",
    "def part1(fpath: Path) -> str:\n",
    "    \"\"\"Solve the puzzle\n",
    "    \n",
    "    :param fpath:  path to puzzle input\n",
    "    \"\"\"\n",
    "    stacks, instructions = parse_input(fpath)  # parse the puzzle input\n",
    "    stacks = move_boxes(stacks, instructions)  # move the boxes around the stacks\n",
    "    return ''.join([stack[0][1] for stack in stacks])"
   ]
  },
  {
   "cell_type": "code",
   "execution_count": 4,
   "id": "913cc459",
   "metadata": {},
   "outputs": [
    {
     "data": {
      "text/plain": [
       "'CMZ'"
      ]
     },
     "execution_count": 4,
     "metadata": {},
     "output_type": "execute_result"
    }
   ],
   "source": [
    "part1(test)"
   ]
  },
  {
   "cell_type": "code",
   "execution_count": 5,
   "id": "ef6fe8b3",
   "metadata": {},
   "outputs": [
    {
     "data": {
      "text/plain": [
       "'FWNSHLDNZ'"
      ]
     },
     "execution_count": 5,
     "metadata": {},
     "output_type": "execute_result"
    }
   ],
   "source": [
    "part1(data)"
   ]
  },
  {
   "cell_type": "markdown",
   "id": "e9b7c807",
   "metadata": {},
   "source": [
    "## Part 2\n",
    "\n",
    "As you watch the crane operator expertly rearrange the crates, you notice the process isn't following your prediction.\n",
    "\n",
    "Some mud was covering the writing on the side of the crane, and you quickly wipe it away. The crane isn't a CrateMover 9000 - it's a CrateMover 9001.\n",
    "\n",
    "The CrateMover 9001 is notable for many new and exciting features: air conditioning, leather seats, an extra cup holder, and the ability to pick up and move multiple crates at once.\n",
    "\n",
    "Again considering the example above, the crates begin in the same configuration:\n",
    "\n",
    "```text\n",
    "    [D]    \n",
    "[N] [C]    \n",
    "[Z] [M] [P]\n",
    " 1   2   3 \n",
    "```\n",
    "\n",
    "Moving a single crate from stack 2 to stack 1 behaves the same as before:\n",
    "\n",
    "```text\n",
    "[D]        \n",
    "[N] [C]    \n",
    "[Z] [M] [P]\n",
    " 1   2   3 \n",
    "```\n",
    "\n",
    "However, the action of moving three crates from stack 1 to stack 3 means that those three moved crates stay in the same order, resulting in this new configuration:\n",
    "\n",
    "```text\n",
    "        [D]\n",
    "        [N]\n",
    "    [C] [Z]\n",
    "    [M] [P]\n",
    " 1   2   3\n",
    "```\n",
    "\n",
    "Next, as both crates are moved from stack 2 to stack 1, they retain their order as well:\n",
    "\n",
    "```text\n",
    "        [D]\n",
    "        [N]\n",
    "[C]     [Z]\n",
    "[M]     [P]\n",
    " 1   2   3\n",
    "```\n",
    "\n",
    "Finally, a single crate is still moved from stack 1 to stack 2, but now it's crate `C` that gets moved:\n",
    "\n",
    "```text\n",
    "        [D]\n",
    "        [N]\n",
    "        [Z]\n",
    "[M] [C] [P]\n",
    " 1   2   3\n",
    "```\n",
    "\n",
    "In this example, the CrateMover 9001 has put the crates in a totally different order: `MCD`.\n",
    "\n",
    "Before the rearrangement process finishes, update your simulation so that the Elves know where they should stand to be ready to unload the final supplies. After the rearrangement procedure completes, what crate ends up on top of each stack?"
   ]
  },
  {
   "cell_type": "code",
   "execution_count": 6,
   "id": "b2119deb",
   "metadata": {},
   "outputs": [],
   "source": [
    "def move_boxes_2(stacks: list[list[str]], instructions: list[tuple[int, int, int]]) -> list[list[str]]:\n",
    "    \"\"\"Return stack arrangement after Cratemover 9001 action\n",
    "    \n",
    "    :param stacks:  initial arrangement of stacks\n",
    "    :param instructions:  instructions for moving boxes around stacks\n",
    "    \"\"\"\n",
    "    for num, stfr, stto in instructions:\n",
    "        # Move num boxes from stfr to stto in one go\n",
    "        stacks[stto-1] = stacks[stfr-1][:num] + stacks[stto-1]\n",
    "        del stacks[stfr-1][:num]  # (remove boxes from source stack)\n",
    "            \n",
    "    return stacks\n",
    "     \n",
    "def part2(fpath: Path) -> str:\n",
    "    \"\"\"Solve the puzzle\n",
    "    \n",
    "    :param fpath:  path to puzzle input\n",
    "    \"\"\"\n",
    "    stacks, instructions = parse_input(fpath)  # parse puzzle input\n",
    "    stacks = move_boxes_2(stacks, instructions)  # move boxes around stacks\n",
    "    return ''.join([stack[0][1] for stack in stacks])\n"
   ]
  },
  {
   "cell_type": "code",
   "execution_count": 7,
   "id": "76330c16",
   "metadata": {},
   "outputs": [
    {
     "data": {
      "text/plain": [
       "'MCD'"
      ]
     },
     "execution_count": 7,
     "metadata": {},
     "output_type": "execute_result"
    }
   ],
   "source": [
    "part2(test)"
   ]
  },
  {
   "cell_type": "code",
   "execution_count": 8,
   "id": "e75e4714",
   "metadata": {},
   "outputs": [
    {
     "data": {
      "text/plain": [
       "'RNRGDNFQG'"
      ]
     },
     "execution_count": 8,
     "metadata": {},
     "output_type": "execute_result"
    }
   ],
   "source": [
    "part2(data)"
   ]
  }
 ],
 "metadata": {
  "kernelspec": {
   "display_name": "Python 3 (ipykernel)",
   "language": "python",
   "name": "python3"
  },
  "language_info": {
   "codemirror_mode": {
    "name": "ipython",
    "version": 3
   },
   "file_extension": ".py",
   "mimetype": "text/x-python",
   "name": "python",
   "nbconvert_exporter": "python",
   "pygments_lexer": "ipython3",
   "version": "3.10.8"
  }
 },
 "nbformat": 4,
 "nbformat_minor": 5
}
