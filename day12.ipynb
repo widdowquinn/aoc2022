{
 "cells": [
  {
   "cell_type": "markdown",
   "id": "bc0048be",
   "metadata": {},
   "source": [
    "# Day 12: Hill Climbing Algorithm\n",
    "\n",
    "## Part 1\n",
    "\n",
    "You try contacting the Elves using your handheld device, but the river you're following must be too low to get a decent signal.\n",
    "\n",
    "You ask the device for a heightmap of the surrounding area (your puzzle input). The heightmap shows the local area from above broken into a grid; the elevation of each square of the grid is given by a single lowercase letter, where `a` is the lowest elevation, `b` is the next-lowest, and so on up to the highest elevation, `z`.\n",
    "\n",
    "Also included on the heightmap are marks for your current position (`S`) and the location that should get the best signal (`E`). Your current position (`S`) has elevation a`, and the location that should get the best signal (`E`) has elevation `z`.\n",
    "\n",
    "You'd like to reach `E`, but to save energy, you should do it in as few steps as possible. During each step, you can move exactly one square up, down, left, or right. To avoid needing to get out your climbing gear, the elevation of the destination square can be at most one higher than the elevation of your current square; that is, if your current elevation is `m`, you could step to elevation `n`, but not to elevation `o`. (This also means that the elevation of the destination square can be much lower than the elevation of your current square.)\n",
    "\n",
    "For example:\n",
    "\n",
    "```text\n",
    "Sabqponm\n",
    "abcryxxl\n",
    "accszExk\n",
    "acctuvwj\n",
    "abdefghi\n",
    "```\n",
    "\n",
    "Here, you start in the top-left corner; your goal is near the middle. You could start by moving down or right, but eventually you'll need to head toward the e at the bottom. From there, you can spiral around to the goal:\n",
    "\n",
    "```text\n",
    "v..v<<<<\n",
    ">v.vv<<^\n",
    ".>vv>E^^\n",
    "..v>>>^^\n",
    "..>>>>>^\n",
    "```\n",
    "\n",
    "In the above diagram, the symbols indicate whether the path exits each square moving up (`^`), down (`v`), left (`<`), or right (`>`). The location that should get the best signal is still `E`, and `.` marks unvisited squares.\n",
    "\n",
    "This path reaches the goal in 31 steps, the fewest possible.\n",
    "\n",
    "What is the fewest steps required to move from your current position to the location that should get the best signal?"
   ]
  },
  {
   "cell_type": "code",
   "execution_count": 1,
   "id": "dd48b81d",
   "metadata": {},
   "outputs": [],
   "source": [
    "# Python imports\n",
    "\n",
    "import networkx as nx\n",
    "import numpy as np\n",
    "\n",
    "from pathlib import Path\n",
    "from typing import Generator"
   ]
  },
  {
   "cell_type": "code",
   "execution_count": 2,
   "id": "29b8b4bc",
   "metadata": {},
   "outputs": [],
   "source": [
    "test = Path(\"data/day12_test.txt\")  # test data\n",
    "data = Path(\"data/day12_data.txt\")  # puzzle data"
   ]
  },
  {
   "cell_type": "code",
   "execution_count": 3,
   "id": "a0ab3e9b",
   "metadata": {},
   "outputs": [],
   "source": [
    "def parse_input(fpath: Path) -> tuple[np.array, tuple[int, int], tuple[int, int]]:\n",
    "    \"\"\"Parse puzzle input into a heightmap array and start/endpoint tuples\n",
    "    \n",
    "    :param fpath: path to puzzle input\n",
    "    \"\"\"\n",
    "    with fpath.open() as ifh:\n",
    "        data = []\n",
    "        for line in [_.strip() for _ in ifh.readlines()]:\n",
    "            data.append([ord(_) for _ in line])\n",
    "            \n",
    "    data = np.array(data, dtype=int)\n",
    "    startpos = tuple(map(int, np.where(data == 83)))\n",
    "    endpos = tuple(map(int, np.where(data == 69)))\n",
    "    return data, startpos, endpos\n",
    "\n",
    "\n",
    "def heightmap_to_graph(hmap: np.array) -> nx.DiGraph:\n",
    "    \"\"\"Convert heightmap array to NetworkX graph\n",
    "    \n",
    "    :param hmap:  heightmap as numpy array\n",
    "    \n",
    "    Iterate over elements in the hmap, joining NSEW elements if their\n",
    "    relative values correspond to the puzzle rules.\n",
    "    \n",
    "    I guess this is 'cheating' to the extent that I'm not coding A*\n",
    "    or Dijkstra myself, and relying on NetworkX's implementation to\n",
    "    find the shortest path.\n",
    "    \"\"\"\n",
    "    gph = nx.DiGraph()  # all valid paths are stored as a DiGraph\n",
    "    \n",
    "    for ridx in range(hmap.shape[0]):  # Iterate over all positions in the map\n",
    "        for cidx in range(hmap.shape[1]):\n",
    "            if (ridx, cidx) not in gph.nodes:  # add current position if not seen yet\n",
    "                gph.add_node((ridx, cidx))\n",
    "            for rpos, cpos in [(ridx, cidx + 1), (ridx + 1, cidx),\n",
    "                               (ridx - 1, cidx), (ridx, cidx - 1)]:  # check NSEW positions\n",
    "                if rpos < 0 or cpos < 0 or rpos > hmap.shape[0]-1 or cpos > hmap.shape[1]-1:\n",
    "                    continue  # target node out of bounds\n",
    "                else:  # target node in bounds\n",
    "                    if (rpos, cpos) not in gph.nodes:  # add target node if not seen yet\n",
    "                        gph.add_node((rpos, cpos))\n",
    "                    if hmap[ridx][cidx] == 83 and hmap[rpos][cpos] == ord(\"a\"):  # start\n",
    "                        gph.add_edge((ridx, cidx), (rpos, cpos))  # step from start\n",
    "                    elif hmap[ridx][cidx] == ord(\"z\") and hmap[rpos][cpos] == 69:  # end\n",
    "                        gph.add_edge((ridx, cidx), (rpos, cpos))  # step to end\n",
    "                    elif (hmap[rpos][cpos] - hmap[ridx][cidx] < 2) and \\\n",
    "                         (hmap[rpos][cpos] not in (69, 83)) and \\\n",
    "                         (hmap[ridx][cidx] not in (69, 83)):\n",
    "                        gph.add_edge((ridx, cidx), (rpos, cpos))\n",
    "\n",
    "    return gph\n",
    "\n",
    "            \n",
    "    \n",
    "def part1(fpath: Path) -> int:\n",
    "    \"\"\"Solve the puzzle\n",
    "    \n",
    "    :param fpath:  path to puzzle input\n",
    "    \"\"\"\n",
    "    heightmap, startpos, endpos = parse_input(fpath)\n",
    "    heightgraph = heightmap_to_graph(heightmap)\n",
    "    path = nx.shortest_path(heightgraph, startpos, endpos)\n",
    "    # Return number of edges in path, not number of nodes (so subtract 1)\n",
    "    return len(path) - 1"
   ]
  },
  {
   "cell_type": "code",
   "execution_count": 4,
   "id": "21231393",
   "metadata": {},
   "outputs": [
    {
     "data": {
      "text/plain": [
       "31"
      ]
     },
     "execution_count": 4,
     "metadata": {},
     "output_type": "execute_result"
    }
   ],
   "source": [
    "part1(test)"
   ]
  },
  {
   "cell_type": "code",
   "execution_count": 5,
   "id": "2986e4d0",
   "metadata": {},
   "outputs": [
    {
     "data": {
      "text/plain": [
       "449"
      ]
     },
     "execution_count": 5,
     "metadata": {},
     "output_type": "execute_result"
    }
   ],
   "source": [
    "part1(data)"
   ]
  },
  {
   "cell_type": "markdown",
   "id": "76ef385c",
   "metadata": {},
   "source": [
    "## Part 2\n",
    "\n",
    "As you walk up the hill, you suspect that the Elves will want to turn this into a hiking trail. The beginning isn't very scenic, though; perhaps you can find a better starting point.\n",
    "\n",
    "To maximize exercise while hiking, the trail should start as low as possible: elevation `a`. The goal is still the square marked `E`. However, the trail should still be direct, taking the fewest steps to reach its goal. So, you'll need to find the shortest path from any square at elevation `a` to the square marked `E`.\n",
    "\n",
    "Again consider the example from above:\n",
    "\n",
    "```text\n",
    "Sabqponm\n",
    "abcryxxl\n",
    "accszExk\n",
    "acctuvwj\n",
    "abdefghi\n",
    "```\n",
    "\n",
    "Now, there are six choices for starting position (five marked `a`, plus the square marked `S` that counts as being at elevation `a`). If you start at the bottom-left square, you can reach the goal most quickly:\n",
    "\n",
    "```text\n",
    "...v<<<<\n",
    "...vv<<^\n",
    "...v>E^^\n",
    ".>v>>>^^\n",
    ">^>>>>>^\n",
    "```\n",
    "\n",
    "This path reaches the goal in only 29 steps, the fewest possible.\n",
    "\n",
    "What is the fewest steps required to move starting from any square with elevation a to the location that should get the best signal?"
   ]
  },
  {
   "cell_type": "code",
   "execution_count": 6,
   "id": "51597722",
   "metadata": {},
   "outputs": [],
   "source": [
    "def get_lowest_positions(heightmap: np.array) -> Generator[tuple[int, int], None, None]:\n",
    "    \"\"\"Return generator of lowest point position tuples\n",
    "    \n",
    "    :param heightmap:  numpy array of landscape heights\n",
    "    \"\"\"\n",
    "    return zip(*np.where((heightmap == 83 ) | (heightmap == ord(\"a\"))))\n",
    "\n",
    "def part2(fpath: Path) -> int:\n",
    "    \"\"\"Solve the puzzle\n",
    "    \n",
    "    :param fpath:  path to puzzle input\n",
    "    \"\"\"\n",
    "    heightmap, startpos, endpos = parse_input(fpath)\n",
    "    heightgraph = heightmap_to_graph(heightmap)\n",
    "    pathlens = []\n",
    "    for startpos in get_lowest_positions(heightmap):  # iterate over all lowest positions\n",
    "        try:\n",
    "            pathlens.append(len(nx.shortest_path(heightgraph, startpos, endpos)) - 1)\n",
    "        except nx.exception.NetworkXNoPath:  # some start points are in isolated lacunae\n",
    "            continue            \n",
    "    return min(pathlens)"
   ]
  },
  {
   "cell_type": "code",
   "execution_count": 7,
   "id": "45c6d678",
   "metadata": {},
   "outputs": [
    {
     "data": {
      "text/plain": [
       "29"
      ]
     },
     "execution_count": 7,
     "metadata": {},
     "output_type": "execute_result"
    }
   ],
   "source": [
    "part2(test)"
   ]
  },
  {
   "cell_type": "code",
   "execution_count": 8,
   "id": "d1fa6eee",
   "metadata": {},
   "outputs": [
    {
     "data": {
      "text/plain": [
       "443"
      ]
     },
     "execution_count": 8,
     "metadata": {},
     "output_type": "execute_result"
    }
   ],
   "source": [
    "part2(data)"
   ]
  },
  {
   "cell_type": "code",
   "execution_count": null,
   "id": "00bb2c84",
   "metadata": {},
   "outputs": [],
   "source": []
  }
 ],
 "metadata": {
  "kernelspec": {
   "display_name": "Python 3 (ipykernel)",
   "language": "python",
   "name": "python3"
  },
  "language_info": {
   "codemirror_mode": {
    "name": "ipython",
    "version": 3
   },
   "file_extension": ".py",
   "mimetype": "text/x-python",
   "name": "python",
   "nbconvert_exporter": "python",
   "pygments_lexer": "ipython3",
   "version": "3.10.8"
  }
 },
 "nbformat": 4,
 "nbformat_minor": 5
}
