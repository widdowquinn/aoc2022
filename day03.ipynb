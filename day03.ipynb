{
 "cells": [
  {
   "cell_type": "markdown",
   "id": "2054a4a0",
   "metadata": {},
   "source": [
    "# Day 3: Rucksack Reorganization\n",
    "\n",
    "## Part 1\n",
    "\n",
    "One Elf has the important job of loading all of the rucksacks with supplies for the jungle journey. Unfortunately, that Elf didn't quite follow the packing instructions, and so a few items now need to be rearranged.\n",
    "\n",
    "Each rucksack has two large compartments. All items of a given type are meant to go into exactly one of the two compartments. The Elf that did the packing failed to follow this rule for exactly one item type per rucksack.\n",
    "\n",
    "The Elves have made a list of all of the items currently in each rucksack (your puzzle input), but they need your help finding the errors. Every item type is identified by a single lowercase or uppercase letter (that is, a and A refer to different types of items).\n",
    "\n",
    "The list of items for each rucksack is given as characters all on a single line. A given rucksack always has the same number of items in each of its two compartments, so the first half of the characters represent items in the first compartment, while the second half of the characters represent items in the second compartment.\n",
    "\n",
    "For example, suppose you have the following list of contents from six rucksacks:\n",
    "\n",
    "```text\n",
    "vJrwpWtwJgWrhcsFMMfFFhFp\n",
    "jqHRNqRjqzjGDLGLrsFMfFZSrLrFZsSL\n",
    "PmmdzqPrVvPwwTWBwg\n",
    "wMqvLMZHhHMvwLHjbvcjnnSBnvTQFn\n",
    "ttgJtRGJQctTZtZT\n",
    "CrZsJsPPZsGzwwsLwLmpwMDw\n",
    "```\n",
    "\n",
    "- The first rucksack contains the items `vJrwpWtwJgWrhcsFMMfFFhFp`, which means its first compartment contains the items `vJrwpWtwJgWr`, while the second compartment contains the items `hcsFMMfFFhFp`. The only item type that appears in both compartments is lowercase `p`.\n",
    "- The second rucksack's compartments contain `jqHRNqRjqzjGDLGL` and `rsFMfFZSrLrFZsSL`. The only item type that appears in both compartments is uppercase L.\n",
    "- The third rucksack's compartments contain `PmmdzqPrV` and `vPwwTWBwg`; the only common item type is uppercase `P`.\n",
    "- The fourth rucksack's compartments only share item type `v`.\n",
    "- The fifth rucksack's compartments only share item type `t`.\n",
    "- The sixth rucksack's compartments only share item type `s`.\n",
    "\n",
    "To help prioritize item rearrangement, every item type can be converted to a priority:\n",
    "\n",
    "    Lowercase item types `a` through `z` have priorities 1 through 26.\n",
    "    Uppercase item types `A` through `Z` have priorities 27 through 52.\n",
    "\n",
    "In the above example, the priority of the item type that appears in both compartments of each rucksack is 16 (p), 38 (L), 42 (P), 22 (v), 20 (t), and 19 (s); the sum of these is 157.\n",
    "\n",
    "Find the item type that appears in both compartments of each rucksack. What is the sum of the priorities of those item types?"
   ]
  },
  {
   "cell_type": "code",
   "execution_count": 1,
   "id": "9f079b55",
   "metadata": {},
   "outputs": [],
   "source": [
    "# Python imports\n",
    "\n",
    "from itertools import zip_longest\n",
    "from pathlib import Path"
   ]
  },
  {
   "cell_type": "code",
   "execution_count": 2,
   "id": "6c72e982",
   "metadata": {},
   "outputs": [],
   "source": [
    "test = Path(\"data/day03_test.txt\")  # test data\n",
    "data = Path(\"data/day03_data.txt\")  # puzzle data"
   ]
  },
  {
   "cell_type": "code",
   "execution_count": 3,
   "id": "cf278332",
   "metadata": {},
   "outputs": [],
   "source": [
    "def parse_rucksacks(fpath: Path) -> list[str]:\n",
    "    \"\"\"Return a list of rucksack content strings\n",
    "    \n",
    "    :param fpath:  path to puzzle input\n",
    "    \"\"\"\n",
    "    with fpath.open() as ifh:\n",
    "        rucksacks = [_.strip() for _ in ifh.readlines()]\n",
    "        \n",
    "    return rucksacks\n",
    "\n",
    "\n",
    "def find_errors(rucksack: tuple[str, str]) -> str:\n",
    "    \"\"\"Return the common item (character) in each compartment\n",
    "    \n",
    "    :param rucksack:  a tuple where each string represents a compartment\n",
    "    \"\"\"\n",
    "    errors = (set(rucksack[0]).intersection(set(rucksack[1])))\n",
    "    return list(errors)[0]\n",
    "\n",
    "\n",
    "def prioritise(error: str) -> int:\n",
    "    \"\"\"Convert passed character to a priority integer\n",
    "    \n",
    "    :param error:  the common item in each rucksack compartment\n",
    "    \"\"\"\n",
    "    if ord(error) > 96:\n",
    "        return ord(error) - 96\n",
    "    return ord(error) - 38\n",
    "\n",
    "\n",
    "def part1(fpath: Path) -> int:\n",
    "    \"\"\"Solve the puzzle\"\"\"\n",
    "    rucksacks = parse_rucksacks(fpath)  # Load rucksack puzzle data\n",
    "    # split rucksacks into compartments    \n",
    "    compartments = [(_[:int(len(_)/2)], _[int(len(_)/2):]) for _ in rucksacks]\n",
    "    errors = [find_errors(_) for _ in compartments]  # identify common characters\n",
    "    priorities = [prioritise(_) for _ in errors]  # calculate priorities\n",
    "\n",
    "    return sum(priorities)"
   ]
  },
  {
   "cell_type": "code",
   "execution_count": 4,
   "id": "b84a968b",
   "metadata": {},
   "outputs": [
    {
     "data": {
      "text/plain": [
       "157"
      ]
     },
     "execution_count": 4,
     "metadata": {},
     "output_type": "execute_result"
    }
   ],
   "source": [
    "part1(test)"
   ]
  },
  {
   "cell_type": "code",
   "execution_count": 5,
   "id": "6c9ab0b5",
   "metadata": {
    "scrolled": true
   },
   "outputs": [
    {
     "data": {
      "text/plain": [
       "7889"
      ]
     },
     "execution_count": 5,
     "metadata": {},
     "output_type": "execute_result"
    }
   ],
   "source": [
    "part1(data)"
   ]
  },
  {
   "cell_type": "markdown",
   "id": "9b9bdc20",
   "metadata": {},
   "source": [
    "## Part 2\n",
    "\n",
    "As you finish identifying the misplaced items, the Elves come to you with another issue.\n",
    "\n",
    "For safety, the Elves are divided into groups of three. Every Elf carries a badge that identifies their group. For efficiency, within each group of three Elves, the badge is the only item type carried by all three Elves. That is, if a group's badge is item type B, then all three Elves will have item type B somewhere in their rucksack, and at most two of the Elves will be carrying any other item type.\n",
    "\n",
    "The problem is that someone forgot to put this year's updated authenticity sticker on the badges. All of the badges need to be pulled out of the rucksacks so the new authenticity stickers can be attached.\n",
    "\n",
    "Additionally, nobody wrote down which item type corresponds to each group's badges. The only way to tell which item type is the right one is by finding the one item type that is common between all three Elves in each group.\n",
    "\n",
    "Every set of three lines in your list corresponds to a single group, but each group can have a different badge item type. So, in the above example, the first group's rucksacks are the first three lines:\n",
    "\n",
    "```text\n",
    "vJrwpWtwJgWrhcsFMMfFFhFp\n",
    "jqHRNqRjqzjGDLGLrsFMfFZSrLrFZsSL\n",
    "PmmdzqPrVvPwwTWBwg\n",
    "```\n",
    "\n",
    "And the second group's rucksacks are the next three lines:\n",
    "\n",
    "```text\n",
    "wMqvLMZHhHMvwLHjbvcjnnSBnvTQFn\n",
    "ttgJtRGJQctTZtZT\n",
    "CrZsJsPPZsGzwwsLwLmpwMDw\n",
    "```\n",
    "\n",
    "In the first group, the only item type that appears in all three rucksacks is lowercase `r`; this must be their badges. In the second group, their badge item type must be `Z`.\n",
    "\n",
    "Priorities for these items must still be found to organize the sticker attachment efforts: here, they are 18 (r) for the first group and 52 (Z) for the second group. The sum of these is 70.\n",
    "\n",
    "Find the item type that corresponds to the badges of each three-Elf group. What is the sum of the priorities of those item types?"
   ]
  },
  {
   "cell_type": "code",
   "execution_count": 6,
   "id": "4c6a42e6",
   "metadata": {},
   "outputs": [],
   "source": [
    "def find_badge(group: tuple[str, str, str]) -> str:\n",
    "    \"\"\"Return the common character in each group\n",
    "    \n",
    "    :param group:  three rucksacks, one per group member\n",
    "    \"\"\"\n",
    "    badge = set(group[0]).intersection(set(group[1])).intersection(set(group[2]))\n",
    "    return list(badge)[0]\n",
    "\n",
    "def part2(fpath):\n",
    "    \"\"\"Solve the puzzle\"\"\"\n",
    "    rucksacks = parse_rucksacks(fpath)  # load rucksack data\n",
    "    groups = zip_longest(*[iter(rucksacks)]*3)  # split rucksack data into groups of three\n",
    "    badges = [find_badge(_) for _ in groups]  # find common character in each group\n",
    "    priorities = [prioritise(_) for _ in badges]  # calculate priorities\n",
    "\n",
    "    return sum(priorities)"
   ]
  },
  {
   "cell_type": "code",
   "execution_count": 7,
   "id": "143d4e54",
   "metadata": {},
   "outputs": [
    {
     "data": {
      "text/plain": [
       "70"
      ]
     },
     "execution_count": 7,
     "metadata": {},
     "output_type": "execute_result"
    }
   ],
   "source": [
    "part2(test)"
   ]
  },
  {
   "cell_type": "code",
   "execution_count": 8,
   "id": "bee17242",
   "metadata": {},
   "outputs": [
    {
     "data": {
      "text/plain": [
       "2825"
      ]
     },
     "execution_count": 8,
     "metadata": {},
     "output_type": "execute_result"
    }
   ],
   "source": [
    "part2(data)"
   ]
  },
  {
   "cell_type": "code",
   "execution_count": null,
   "id": "e8f77e74",
   "metadata": {},
   "outputs": [],
   "source": []
  }
 ],
 "metadata": {
  "kernelspec": {
   "display_name": "Python 3 (ipykernel)",
   "language": "python",
   "name": "python3"
  },
  "language_info": {
   "codemirror_mode": {
    "name": "ipython",
    "version": 3
   },
   "file_extension": ".py",
   "mimetype": "text/x-python",
   "name": "python",
   "nbconvert_exporter": "python",
   "pygments_lexer": "ipython3",
   "version": "3.10.8"
  }
 },
 "nbformat": 4,
 "nbformat_minor": 5
}
