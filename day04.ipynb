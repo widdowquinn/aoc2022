{
 "cells": [
  {
   "cell_type": "markdown",
   "id": "b4cb6302",
   "metadata": {},
   "source": [
    "# Day 4: Camp Cleanup\n",
    "\n",
    "## Part 1\n",
    "\n",
    "Space needs to be cleared before the last supplies can be unloaded from the ships, and so several Elves have been assigned the job of cleaning up sections of the camp. Every section has a unique ID number, and each Elf is assigned a range of section IDs.\n",
    "\n",
    "However, as some of the Elves compare their section assignments with each other, they've noticed that many of the assignments overlap. To try to quickly find overlaps and reduce duplicated effort, the Elves pair up and make a big list of the section assignments for each pair (your puzzle input).\n",
    "\n",
    "For example, consider the following list of section assignment pairs:\n",
    "\n",
    "```text\n",
    "2-4,6-8\n",
    "2-3,4-5\n",
    "5-7,7-9\n",
    "2-8,3-7\n",
    "6-6,4-6\n",
    "2-6,4-8\n",
    "```\n",
    "\n",
    "For the first few pairs, this list means:\n",
    "\n",
    "- Within the first pair of Elves, the first Elf was assigned sections 2-4 (sections 2, 3, and 4), while the second Elf was assigned sections 6-8 (sections 6, 7, 8).\n",
    "- The Elves in the second pair were each assigned two sections.\n",
    "- The Elves in the third pair were each assigned three sections: one got sections 5, 6, and 7, while the other also got 7, plus 8 and 9.\n",
    "\n",
    "This example list uses single-digit section IDs to make it easier to draw; your actual list might contain larger numbers. Visually, these pairs of section assignments look like this:\n",
    "\n",
    "```text\n",
    ".234.....  2-4\n",
    ".....678.  6-8\n",
    "\n",
    ".23......  2-3\n",
    "...45....  4-5\n",
    "\n",
    "....567..  5-7\n",
    "......789  7-9\n",
    "\n",
    ".2345678.  2-8\n",
    "..34567..  3-7\n",
    "\n",
    ".....6...  6-6\n",
    "...456...  4-6\n",
    "\n",
    ".23456...  2-6\n",
    "...45678.  4-8\n",
    "```\n",
    "\n",
    "Some of the pairs have noticed that one of their assignments fully contains the other. For example, 2-8 fully contains 3-7, and 6-6 is fully contained by 4-6. In pairs where one assignment fully contains the other, one Elf in the pair would be exclusively cleaning sections their partner will already be cleaning, so these seem like the most in need of reconsideration. In this example, there are 2 such pairs.\n",
    "\n",
    "In how many assignment pairs does one range fully contain the other?"
   ]
  },
  {
   "cell_type": "code",
   "execution_count": 1,
   "id": "9e2ab3e3",
   "metadata": {},
   "outputs": [],
   "source": [
    "# Python imports\n",
    "\n",
    "from pathlib import Path"
   ]
  },
  {
   "cell_type": "code",
   "execution_count": 2,
   "id": "d94237ea",
   "metadata": {},
   "outputs": [],
   "source": [
    "test = Path(\"data/day04_test.txt\")  # test data\n",
    "data = Path(\"data/day04_data.txt\")  # puzzle data"
   ]
  },
  {
   "cell_type": "code",
   "execution_count": 3,
   "id": "044bcf17",
   "metadata": {},
   "outputs": [],
   "source": [
    "def parse_input(fpath: Path) -> list[list[tuple[int, int]]]:\n",
    "    \"\"\"Return list of elf cleaning assignments\n",
    "    \n",
    "    :param fpath:  path to puzzle input\n",
    "    \n",
    "    Each assignment is a list with two tuples. Each tuple is the\n",
    "    section for a single elf. Each tuple has (start, end) locations\n",
    "    for that section.\n",
    "    \"\"\"\n",
    "    assignments = []  # hold elf cleaning assignments as lists of tuples of (start, end) pairs\n",
    "    \n",
    "    with fpath.open() as ifh:\n",
    "        for elves, line in enumerate([_.strip() for _ in ifh.readlines()]):\n",
    "            entry = line.split(\",\")\n",
    "            assignment = []\n",
    "            for section in entry:\n",
    "                start, end = (int(_) for _ in section.split(\"-\"))\n",
    "                assignment.append((start, end))\n",
    "            assignments.append(sorted(assignment))  # earliest-starting assignment first\n",
    "                \n",
    "    return assignments\n",
    "    \n",
    "def find_contained_assignments(assignments: list[list[tuple[int, int]]]) -> list[list[tuple[int, int]]]:\n",
    "    \"\"\"Return elf cleaning assignments where one section is contained in the other\n",
    "    \n",
    "    :param assignments:  list of cleaning assignments\n",
    "    \n",
    "    Each assignment is a list with two tuples. Each tuple is the\n",
    "    section for a single elf. Each tuple has (start, end) locations\n",
    "    for that section.\n",
    "    \"\"\"\n",
    "    contained = []\n",
    "    for ass in assignments:\n",
    "\n",
    "        # section 1 doesn't start before section 0 AND section 1 doesn't end after section 0\n",
    "        if ass[1][0] >= ass[0][0] and ass[1][1] <= ass[0][1]:\n",
    "            contained.append(ass)\n",
    "        # ELSE section 1 starts at same point as section 0 AND section 0 doesn't end after section 1\n",
    "        elif ass[1][0] == ass[0][0] and ass[0][1] <= ass[1][1]:\n",
    "            contained.append(ass)\n",
    "            \n",
    "    return contained\n",
    "\n",
    "    \n",
    "def part1(fpath: Path) -> int:\n",
    "    \"\"\"Solve the puzzle\n",
    "    \n",
    "    :param fpath:  path to puzzle input\n",
    "    \"\"\"    \n",
    "    assignments = parse_input(fpath)  # load puzzle input\n",
    "    contained = find_contained_assignments(assignments)  # find how many assignments are contained\n",
    "    \n",
    "    return len(contained)\n"
   ]
  },
  {
   "cell_type": "code",
   "execution_count": 4,
   "id": "ec102e09",
   "metadata": {},
   "outputs": [
    {
     "data": {
      "text/plain": [
       "2"
      ]
     },
     "execution_count": 4,
     "metadata": {},
     "output_type": "execute_result"
    }
   ],
   "source": [
    "part1(test)"
   ]
  },
  {
   "cell_type": "code",
   "execution_count": 5,
   "id": "012ce591",
   "metadata": {},
   "outputs": [
    {
     "data": {
      "text/plain": [
       "459"
      ]
     },
     "execution_count": 5,
     "metadata": {},
     "output_type": "execute_result"
    }
   ],
   "source": [
    "part1(data)"
   ]
  },
  {
   "cell_type": "markdown",
   "id": "066e19cd",
   "metadata": {},
   "source": [
    "## Part 2\n",
    "\n",
    "It seems like there is still quite a bit of duplicate work planned. Instead, the Elves would like to know the number of pairs that overlap at all.\n",
    "\n",
    "In the above example, the first two pairs (2-4,6-8 and 2-3,4-5) don't overlap, while the remaining four pairs (5-7,7-9, 2-8,3-7, 6-6,4-6, and 2-6,4-8) do overlap:\n",
    "\n",
    "-    5-7,7-9 overlaps in a single section, 7.\n",
    "-    2-8,3-7 overlaps all of the sections 3 through 7.\n",
    "-    6-6,4-6 overlaps in a single section, 6.\n",
    "-    2-6,4-8 overlaps in sections 4, 5, and 6.\n",
    "\n",
    "So, in this example, the number of overlapping assignment pairs is 4.\n",
    "\n",
    "In how many assignment pairs do the ranges overlap?"
   ]
  },
  {
   "cell_type": "code",
   "execution_count": 6,
   "id": "fad2fe73",
   "metadata": {},
   "outputs": [],
   "source": [
    "def find_overlap_assignments(assignments: list[list[tuple[int, int]]]) -> list[list[tuple[int, int]]]:\n",
    "    \"\"\"Return elf cleaning assignments where one section overlaps the other\n",
    "    \n",
    "    :param assignments:  list of cleaning assignments\n",
    "    \n",
    "    Each assignment is a list with two tuples. Each tuple is the\n",
    "    section for a single elf. Each tuple has (start, end) locations\n",
    "    for that section.\n",
    "    \"\"\"\n",
    "    overlaps = []\n",
    "    for ass in assignments:\n",
    "        \n",
    "        # section 1 ends within section 0\n",
    "        if ass[1][1] >= ass[0][0] and ass[1][1] <= ass[0][1]:\n",
    "            overlaps.append(ass)\n",
    "        # section 1 starts within section 0\n",
    "        elif ass[1][0] >= ass[0][0] and ass[1][0] <= ass[0][1]:\n",
    "            overlaps.append(ass)\n",
    "            \n",
    "    return overlaps\n",
    "\n",
    "\n",
    "def part2(fpath: Path) -> int:\n",
    "    \"\"\"Solve the puzzle\n",
    "    \n",
    "    :param fpath:  path to puzzle input\n",
    "    \"\"\"\n",
    "    assignments = parse_input(fpath)  # load puzzle input\n",
    "    overlaps = find_overlap_assignments(assignments)  # find how many assignments overlap\n",
    "    \n",
    "    return len(overlaps)\n"
   ]
  },
  {
   "cell_type": "code",
   "execution_count": 7,
   "id": "b2b93a3a",
   "metadata": {},
   "outputs": [
    {
     "data": {
      "text/plain": [
       "4"
      ]
     },
     "execution_count": 7,
     "metadata": {},
     "output_type": "execute_result"
    }
   ],
   "source": [
    "part2(test)"
   ]
  },
  {
   "cell_type": "code",
   "execution_count": 8,
   "id": "ce10c21c",
   "metadata": {},
   "outputs": [
    {
     "data": {
      "text/plain": [
       "779"
      ]
     },
     "execution_count": 8,
     "metadata": {},
     "output_type": "execute_result"
    }
   ],
   "source": [
    "part2(data)"
   ]
  }
 ],
 "metadata": {
  "kernelspec": {
   "display_name": "Python 3 (ipykernel)",
   "language": "python",
   "name": "python3"
  },
  "language_info": {
   "codemirror_mode": {
    "name": "ipython",
    "version": 3
   },
   "file_extension": ".py",
   "mimetype": "text/x-python",
   "name": "python",
   "nbconvert_exporter": "python",
   "pygments_lexer": "ipython3",
   "version": "3.10.8"
  }
 },
 "nbformat": 4,
 "nbformat_minor": 5
}
