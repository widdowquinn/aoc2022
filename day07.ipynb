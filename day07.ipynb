{
 "cells": [
  {
   "cell_type": "markdown",
   "id": "450c90d2",
   "metadata": {},
   "source": [
    "# Day 7: No Space Left on Device\n",
    "\n",
    "## Part 1\n",
    "\n",
    "You can hear birds chirping and raindrops hitting leaves as the expedition proceeds. Occasionally, you can even hear much louder sounds in the distance; how big do the animals get out here, anyway?\n",
    "\n",
    "The device the Elves gave you has problems with more than just its communication system. You try to run a system update:\n",
    "\n",
    "```text\n",
    "$ system-update --please --pretty-please-with-sugar-on-top\n",
    "Error: No space left on device\n",
    "```\n",
    "\n",
    "Perhaps you can delete some files to make space for the update?\n",
    "\n",
    "You browse around the filesystem to assess the situation and save the resulting terminal output (your puzzle input). For example:\n",
    "\n",
    "```text\n",
    "$ cd /\n",
    "$ ls\n",
    "dir a\n",
    "14848514 b.txt\n",
    "8504156 c.dat\n",
    "dir d\n",
    "$ cd a\n",
    "$ ls\n",
    "dir e\n",
    "29116 f\n",
    "2557 g\n",
    "62596 h.lst\n",
    "$ cd e\n",
    "$ ls\n",
    "584 i\n",
    "$ cd ..\n",
    "$ cd ..\n",
    "$ cd d\n",
    "$ ls\n",
    "4060174 j\n",
    "8033020 d.log\n",
    "5626152 d.ext\n",
    "7214296 k\n",
    "```\n",
    "\n",
    "The filesystem consists of a tree of files (plain data) and directories (which can contain other directories or files). The outermost directory is called /. You can navigate around the filesystem, moving into or out of directories and listing the contents of the directory you're currently in.\n",
    "\n",
    "Within the terminal output, lines that begin with `$` are commands you executed, very much like some modern computers:\n",
    "\n",
    "- `cd` means change directory. This changes which directory is the current directory, but the specific result depends on the argument:\n",
    "- `cd x` moves in one level: it looks in the current directory for the directory named x and makes it the current directory.\n",
    "- `cd ..` moves out one level: it finds the directory that contains the current directory, then makes that directory the current directory.\n",
    "- `cd /` switches the current directory to the outermost directory, `/`.\n",
    "- `ls` means list. It prints out all of the files and directories immediately contained by the current directory:\n",
    "- `123 abc` means that the current directory contains a file named abc with size 123.\n",
    "- `dir xyz` means that the current directory contains a directory named xyz.\n",
    "\n",
    "Given the commands and output in the example above, you can determine that the filesystem looks visually like this:\n",
    "\n",
    "```text\n",
    "- / (dir)\n",
    "  - a (dir)\n",
    "    - e (dir)\n",
    "      - i (file, size=584)\n",
    "    - f (file, size=29116)\n",
    "    - g (file, size=2557)\n",
    "    - h.lst (file, size=62596)\n",
    "  - b.txt (file, size=14848514)\n",
    "  - c.dat (file, size=8504156)\n",
    "  - d (dir)\n",
    "    - j (file, size=4060174)\n",
    "    - d.log (file, size=8033020)\n",
    "    - d.ext (file, size=5626152)\n",
    "    - k (file, size=7214296)\n",
    "```\n",
    "\n",
    "Here, there are four directories: / (the outermost directory), a and d (which are in /), and e (which is in a). These directories also contain files of various sizes.\n",
    "\n",
    "Since the disk is full, your first step should probably be to find directories that are good candidates for deletion. To do this, you need to determine the total size of each directory. The total size of a directory is the sum of the sizes of the files it contains, directly or indirectly. (Directories themselves do not count as having any intrinsic size.)\n",
    "\n",
    "The total sizes of the directories above can be found as follows:\n",
    "\n",
    "- The total size of directory `e` is 584 because it contains a single file `i` of size 584 and no other directories.\n",
    "- The directory `a` has total size 94853 because it contains files `f` (size 29116), `g` (size 2557), and `h.lst` (size 62596), plus file `i` indirectly (a contains `e` which contains `i`).\n",
    "- Directory `d` has total size 24933642.\n",
    "- As the outermost directory, `/` contains every file. Its total size is 48381165, the sum of the size of every file.\n",
    "\n",
    "To begin, find all of the directories with a total size of at most 100000, then calculate the sum of their total sizes. In the example above, these directories are `a` and `e`; the sum of their total sizes is 95437 (94853 + 584). (As in this example, this process can count files more than once!)\n",
    "\n",
    "Find all of the directories with a total size of at most 100000. What is the sum of the total sizes of those directories?"
   ]
  },
  {
   "cell_type": "code",
   "execution_count": 1,
   "id": "353117f1",
   "metadata": {},
   "outputs": [],
   "source": [
    "# Python imports\n",
    "from __future__ import annotations  # required for self-typing within class, will be default in 3.11\n",
    "\n",
    "from pathlib import Path\n",
    "from typing import Optional"
   ]
  },
  {
   "cell_type": "code",
   "execution_count": 2,
   "id": "349ffa30",
   "metadata": {},
   "outputs": [],
   "source": [
    "test = Path(\"data/day07_test.txt\")  # test data\n",
    "data = Path(\"data/day07_data.txt\")  # puzzle data"
   ]
  },
  {
   "cell_type": "code",
   "execution_count": 3,
   "id": "98023f8d",
   "metadata": {},
   "outputs": [],
   "source": [
    "class FSNode:\n",
    "    \n",
    "    \"\"\"Represents a node (directory or file) in a Filesystem object\"\"\"\n",
    "    \n",
    "    def __init__(self, name: str, parent: Optional[FSNode], ntype: str=\"file\", size: int=0) -> None:\n",
    "        \"\"\"Instantiate an FSNode (directory or file)\n",
    "        \n",
    "        :param name:  human-readable name for the node\n",
    "        :param parent:  parent node (None if root node)\n",
    "        :param ntype:  type of node\n",
    "        :param size:  size of node\n",
    "        \"\"\"\n",
    "        self.name = name  # name of this node\n",
    "        self.parent = parent  # parent directory\n",
    "        self.children = {}  # holds all children, dirs and files, keyed by name\n",
    "        self.ntype = ntype  # node type\n",
    "        self.size = size  # size of this node (0 for directories)\n",
    "        \n",
    "    def add_child(self, name: str, ntype: str=\"file\", size: int=0) -> None:\n",
    "        \"\"\"Add child FSNode to current node\n",
    "        \n",
    "        :param name:  human-readable name of child node\n",
    "        :param ntype:  type of child node\n",
    "        :param size:  size of child node\n",
    "        \"\"\"\n",
    "        self.children[name] = FSNode(name, self, ntype, size)  # add new node to children\n",
    "\n",
    "    def get_all_children(self) -> list[FSNode]:\n",
    "        \"\"\"Return all children of the current node\"\"\"\n",
    "        # Iterate over child nodes, and their children, and return as a list\n",
    "        nodes = []        \n",
    "        for name, node in self.children.items():\n",
    "            nodes += [node] + node.get_all_children()\n",
    "\n",
    "        return nodes\n",
    "        \n",
    "    @property\n",
    "    def tree(self) -> str:\n",
    "        \"\"\"Return subtree as prettified string\"\"\"\n",
    "        outstr = [f\"- {self}\"]  # start at current location\n",
    "        for name, node in self.children.items():  # indent tree output for children by \"  \"\n",
    "            outstr += [\"  \" + _ for _ in node.tree.split(\"\\n\")]\n",
    "        return \"\\n\".join(outstr)  # return recompiled tree with indents\n",
    "        \n",
    "    def __len__(self) -> int:\n",
    "        \"\"\"Report length of node contents\"\"\"\n",
    "        # file nodes don't have children, so this is equivalent to self.size\n",
    "        # dir nodes only have children, so this is the size of all nodes below current node\n",
    "        return self.size + sum([len(_) for _ in self.children.values()])\n",
    "\n",
    "    def __str__(self) -> str:\n",
    "        \"\"\"Return human-readable information\"\"\"\n",
    "        if self.ntype == \"dir\":  # directories don't have a size...\n",
    "            return f\"{self.name} ({self.ntype})\"\n",
    "        else:  # ...but files do\n",
    "            return f\"{self.name} ({self.ntype}, size={self.size})\"\n",
    "    \n",
    "    def __repr__(self) -> str:\n",
    "        \"\"\"Return string describing FSNode object\"\"\"\n",
    "        return f\"<FSNode {self.name} ({self.ntype}, size={self.size}, total_size={len(self)} at {id(self)}>\"\n",
    "\n",
    "    \n",
    "class Filesystem:\n",
    "    \n",
    "    \"\"\"Represents a filesystem containing FSNode files and directories\"\"\"\n",
    "    \n",
    "    def __init__(self) -> None:\n",
    "        \"\"\"Initialise a filesystem object\"\"\"\n",
    "        self.root = FSNode(\"/\", None, ntype=\"dir\", size=0)  # initialise filesystem with root node\n",
    "        \n",
    "    @property\n",
    "    def total_size(self) -> int:\n",
    "        \"\"\"Return total size of filesystem\"\"\"\n",
    "        return len(self.root)  # length/size of root node is the used space\n",
    "\n",
    "    @property\n",
    "    def dirs(self) -> list[FSNode]:\n",
    "        \"\"\"Return all directories in the filesystem\"\"\"\n",
    "        return [_ for _ in self.root.get_all_children() if _.ntype == \"dir\"]\n",
    "    \n",
    "    @property\n",
    "    def dir_sizes(self) -> list[tuple[int, str]]:\n",
    "        \"\"\"Return list of tuples containing directory names and sizes\"\"\"\n",
    "        return [(len(_), _.name) for _ in self.dirs]\n",
    "            \n",
    "    def __str__(self):\n",
    "        \"\"\"Return Filesystem tree as string\"\"\"\n",
    "        return self.root.tree  # root tree is the filesystem tree\n",
    "        \n",
    "    def __repr__(self) -> str:\n",
    "        \"\"\"Return string describing Filesystem\"\"\"\n",
    "        return f\"<Filesystem object at {id(self)}>\"\n",
    "\n",
    "def parse_input(fpath: Path) -> Filesystem:\n",
    "    \"\"\"Parse puzzle input into a filesystem\n",
    "    \n",
    "    :param fpath: path to puzzle input\n",
    "    \"\"\"\n",
    "    with fpath.open() as ifh:\n",
    "        filesystem = Filesystem()  # initialise \n",
    "        cursor = None\n",
    "        state = \"command\"\n",
    "        for line in [_.strip() for _ in ifh.readlines()]:\n",
    "            if line.startswith(\"$\"):  # start to read command state\n",
    "                state = \"command\"  # switch state\n",
    "            # In a command state, process the command\n",
    "            if state == \"command\":\n",
    "                command = line.split()[1:]\n",
    "                if command[0] == \"cd\":  # change directory\n",
    "                    if command[1] == \"/\":  # go to filesystem root\n",
    "                        cursor = filesystem.root\n",
    "                    elif command[1] == \"..\":  # go up a directory\n",
    "                        cursor = cursor.parent\n",
    "                    else:  # descend into child directory\n",
    "                        cursor = cursor.children[command[1]]\n",
    "                if command[0] == \"ls\":  # start to receive node information\n",
    "                    state = \"nodeinfo\"  # switch state\n",
    "            # In a node information state, add the current directory/file\n",
    "            elif state == \"nodeinfo\":\n",
    "                nodeinfo = line.split()\n",
    "                if nodeinfo[0] == \"dir\":  # add directory to current node\n",
    "                    cursor.add_child(nodeinfo[1], ntype=\"dir\")\n",
    "                else:\n",
    "                    cursor.add_child(nodeinfo[1], size=int(nodeinfo[0]))\n",
    "            \n",
    "    return filesystem\n",
    "                \n",
    "        \n",
    "def part1(fpath: Path) -> int:\n",
    "    \"\"\"Solve the puzzle\n",
    "    \n",
    "    :param fpath:  path to puzzle input\n",
    "    \"\"\"\n",
    "    filesystem = parse_input(fpath)\n",
    "    small_dirs = [_ for _ in filesystem.root.get_all_children() \\\n",
    "                  if _.ntype == \"dir\" and len(_) < 100000]\n",
    "    return sum([len(_) for _ in small_dirs])"
   ]
  },
  {
   "cell_type": "code",
   "execution_count": 4,
   "id": "cb35ae92",
   "metadata": {},
   "outputs": [
    {
     "name": "stdout",
     "output_type": "stream",
     "text": [
      "- / (dir)\n",
      "  - a (dir)\n",
      "    - e (dir)\n",
      "      - i (file, size=584)\n",
      "    - f (file, size=29116)\n",
      "    - g (file, size=2557)\n",
      "    - h.lst (file, size=62596)\n",
      "  - b.txt (file, size=14848514)\n",
      "  - c.dat (file, size=8504156)\n",
      "  - d (dir)\n",
      "    - j (file, size=4060174)\n",
      "    - d.log (file, size=8033020)\n",
      "    - d.ext (file, size=5626152)\n",
      "    - k (file, size=7214296)\n"
     ]
    }
   ],
   "source": [
    "# Check that we can reproduce the filesystem pretty output\n",
    "fs = parse_input(test)\n",
    "print(fs)"
   ]
  },
  {
   "cell_type": "code",
   "execution_count": 5,
   "id": "510e6a26",
   "metadata": {},
   "outputs": [
    {
     "data": {
      "text/plain": [
       "95437"
      ]
     },
     "execution_count": 5,
     "metadata": {},
     "output_type": "execute_result"
    }
   ],
   "source": [
    "part1(test)"
   ]
  },
  {
   "cell_type": "code",
   "execution_count": 6,
   "id": "bc39a2eb",
   "metadata": {},
   "outputs": [
    {
     "data": {
      "text/plain": [
       "1423358"
      ]
     },
     "execution_count": 6,
     "metadata": {},
     "output_type": "execute_result"
    }
   ],
   "source": [
    "part1(data)"
   ]
  },
  {
   "cell_type": "markdown",
   "id": "eaab5f27",
   "metadata": {},
   "source": [
    "## Part 2\n",
    "\n",
    "Now, you're ready to choose a directory to delete.\n",
    "\n",
    "The total disk space available to the filesystem is `70000000`. To run the update, you need unused space of at least `30000000`. You need to find a directory you can delete that will free up enough space to run the update.\n",
    "\n",
    "In the example above, the total size of the outermost directory (and thus the total amount of used space) is `48381165`; this means that the size of the unused space must currently be `21618835`, which isn't quite the `30000000` required by the update. Therefore, the update still requires a directory with total size of at least `8381165` to be deleted before it can run.\n",
    "\n",
    "To achieve this, you have the following options:\n",
    "\n",
    "- Delete directory `e`, which would increase unused space by `584`.\n",
    "- Delete directory `a`, which would increase unused space by `94853`.\n",
    "- Delete directory `d`, which would increase unused space by `24933642`.\n",
    "- Delete directory `/`, which would increase unused space by `48381165`.\n",
    "\n",
    "Directories `e` and `a` are both too small; deleting them would not free up enough space. However, directories `d` and `/` are both big enough! Between these, choose the smallest: `d`, increasing unused space by `24933642`.\n",
    "\n",
    "Find the smallest directory that, if deleted, would free up enough space on the filesystem to run the update. What is the total size of that directory?"
   ]
  },
  {
   "cell_type": "code",
   "execution_count": 7,
   "id": "84261443",
   "metadata": {},
   "outputs": [],
   "source": [
    "def get_dir_for_deletion(filesystem: Filesystem, min_dirsize: int) -> FSNode:\n",
    "    \"\"\"Return smallest FSNode directory with size above min_dirsize, or root\n",
    "    \n",
    "    :param filesystem:  filesystem being searched\n",
    "    :param min_dirsize:  lower limit on directory size to report\n",
    "    \"\"\"\n",
    "    curdir = filesystem.root  # start by considering deletion of complete filesystem\n",
    "    for fsdir in sorted(filesystem.dir_sizes, reverse=True):  # iterate from largest to smallest directory\n",
    "        if fsdir[0] > min_dirsize:  # if the current directory size > threshold...\n",
    "            curdir = fsdir  # ...this is the smallest directory that can be deleted\n",
    "        else:  # no more directories could fulfil conditions...\n",
    "            return curdir  # ...so return the last directory we found    \n",
    "\n",
    "def part2(fpath: Path) -> int:\n",
    "    \"\"\"Solve the puzzle\n",
    "    \n",
    "    :param fpath:  path to puzzle input\n",
    "    \"\"\"\n",
    "    total_space = 70000000  # total space available to filesystem\n",
    "    required_space = 30000000  # space required for update\n",
    "    \n",
    "    filesystem = parse_input(fpath)  # load in filesystem info\n",
    "    min_dirsize = required_space - (total_space - filesystem.total_size)  # calculate minimum deletion size\n",
    "    return get_dir_for_deletion(filesystem, min_dirsize)[0]  # size of directory to be deleted"
   ]
  },
  {
   "cell_type": "code",
   "execution_count": 8,
   "id": "0c7ddf4b",
   "metadata": {},
   "outputs": [
    {
     "data": {
      "text/plain": [
       "24933642"
      ]
     },
     "execution_count": 8,
     "metadata": {},
     "output_type": "execute_result"
    }
   ],
   "source": [
    "part2(test)"
   ]
  },
  {
   "cell_type": "code",
   "execution_count": 9,
   "id": "224e7d5e",
   "metadata": {},
   "outputs": [
    {
     "data": {
      "text/plain": [
       "545729"
      ]
     },
     "execution_count": 9,
     "metadata": {},
     "output_type": "execute_result"
    }
   ],
   "source": [
    "part2(data)"
   ]
  },
  {
   "cell_type": "code",
   "execution_count": null,
   "id": "60223523",
   "metadata": {},
   "outputs": [],
   "source": []
  }
 ],
 "metadata": {
  "kernelspec": {
   "display_name": "Python 3 (ipykernel)",
   "language": "python",
   "name": "python3"
  },
  "language_info": {
   "codemirror_mode": {
    "name": "ipython",
    "version": 3
   },
   "file_extension": ".py",
   "mimetype": "text/x-python",
   "name": "python",
   "nbconvert_exporter": "python",
   "pygments_lexer": "ipython3",
   "version": "3.10.8"
  }
 },
 "nbformat": 4,
 "nbformat_minor": 5
}
