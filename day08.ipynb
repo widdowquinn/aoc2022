{
 "cells": [
  {
   "cell_type": "markdown",
   "id": "03af318b",
   "metadata": {},
   "source": [
    "# Day 8: Treetop Tree House\n",
    "\n",
    "## Part 1\n",
    "\n",
    "The expedition comes across a peculiar patch of tall trees all planted carefully in a grid. The Elves explain that a previous expedition planted these trees as a reforestation effort. Now, they're curious if this would be a good location for a tree house.\n",
    "\n",
    "First, determine whether there is enough tree cover here to keep a tree house hidden. To do this, you need to count the number of trees that are visible from outside the grid when looking directly along a row or column.\n",
    "\n",
    "The Elves have already launched a quadcopter to generate a map with the height of each tree (your puzzle input). For example:\n",
    "\n",
    "```text\n",
    "30373\n",
    "25512\n",
    "65332\n",
    "33549\n",
    "35390\n",
    "```\n",
    "\n",
    "Each tree is represented as a single digit whose value is its height, where 0 is the shortest and 9 is the tallest.\n",
    "\n",
    "A tree is visible if all of the other trees between it and an edge of the grid are shorter than it. Only consider trees in the same row or column; that is, only look up, down, left, or right from any given tree.\n",
    "\n",
    "All of the trees around the edge of the grid are visible - since they are already on the edge, there are no trees to block the view. In this example, that only leaves the interior nine trees to consider:\n",
    "\n",
    "- The top-left 5 is visible from the left and top. (It isn't visible from the right or bottom since other trees of height 5 are in the way.)\n",
    "- The top-middle 5 is visible from the top and right.\n",
    "- The top-right 1 is not visible from any direction; for it to be visible, there would need to only be trees of height 0 between it and an edge.\n",
    "- The left-middle 5 is visible, but only from the right.\n",
    "- The center 3 is not visible from any direction; for it to be visible, there would need to be only trees of at most height 2 between it and an edge.\n",
    "- The right-middle 3 is visible from the right.\n",
    "- In the bottom row, the middle 5 is visible, but the 3 and 4 are not.\n",
    "\n",
    "With 16 trees visible on the edge and another 5 visible in the interior, a total of 21 trees are visible in this arrangement.\n",
    "\n",
    "Consider your map; how many trees are visible from outside the grid?"
   ]
  },
  {
   "cell_type": "code",
   "execution_count": 1,
   "id": "f601014b",
   "metadata": {},
   "outputs": [],
   "source": [
    "# Python imports\n",
    "\n",
    "from pathlib import Path\n",
    "\n",
    "import numpy as np"
   ]
  },
  {
   "cell_type": "code",
   "execution_count": 2,
   "id": "454fe7a2",
   "metadata": {},
   "outputs": [],
   "source": [
    "test = Path(\"data/day08_test.txt\")  # test data\n",
    "data = Path(\"data/day08_data.txt\")  # puzzle data"
   ]
  },
  {
   "cell_type": "code",
   "execution_count": 3,
   "id": "63fe344d",
   "metadata": {},
   "outputs": [],
   "source": [
    "def parse_input(fpath: Path) -> np.array:\n",
    "    \"\"\"Parse puzzle input into\n",
    "    \n",
    "    :param fpath: path to puzzle input\n",
    "    \"\"\"\n",
    "    with fpath.open() as ifh:\n",
    "        data = np.array([list(_.strip()) for _ in ifh.readlines()])\n",
    "    return data.astype(int)\n",
    "\n",
    "def count_visible_trees(arr: np.array) -> int:\n",
    "    \"\"\"Return the count of visible trees in the passed array\n",
    "    \n",
    "    :param arr:  numpy array, each element is a tree height\n",
    "    \n",
    "    This solution is fairly hacky and brute force. There must be a more\n",
    "    elegant solution!\n",
    "    \"\"\"\n",
    "    nrow, ncol = arr.shape  # handy for calculations later\n",
    "    # Keep a shadow array with visibility count on all four sides for each tree\n",
    "    # Each element will be incremented by one if a tree is visible from a side\n",
    "    viscount = np.zeros(arr.shape, dtype=int)\n",
    "    \n",
    "    # Iterate along array sides, incrementing the shadow array when a tree is\n",
    "    # visible from that side\n",
    "    # Rows first\n",
    "    for ridx, row in enumerate(arr):\n",
    "        rmax = max(row)\n",
    "        # forward\n",
    "        curmax = -1\n",
    "        for cidx, val in enumerate(row):\n",
    "            if val > curmax:\n",
    "                viscount[ridx][cidx] += 1\n",
    "                curmax = val\n",
    "        # reverse\n",
    "        curmax = -1\n",
    "        for cidx, val in enumerate(row[::-1]):\n",
    "            if val > curmax:\n",
    "                viscount[ridx][nrow-cidx-1] += 1\n",
    "                curmax = val\n",
    "    # Then columns\n",
    "    for cidx, col in enumerate(arr.T):\n",
    "        cmax = max(col)\n",
    "        # forward\n",
    "        curmax = -1\n",
    "        for ridx, val in enumerate(col):\n",
    "            if val > curmax:\n",
    "                viscount[ridx][cidx] += 1\n",
    "                curmax = val\n",
    "        # reverse\n",
    "        curmax = -1\n",
    "        for ridx, val in enumerate(col[::-1]):\n",
    "            if val > curmax:\n",
    "                viscount[nrow-ridx-1][cidx] += 1\n",
    "                curmax = val\n",
    "    \n",
    "    return (viscount > 0).sum()\n",
    "\n",
    "def part1(fpath: Path) -> int:\n",
    "    \"\"\"Solve the puzzle\n",
    "    \n",
    "    :param fpath:  path to puzzle input\n",
    "    \"\"\"\n",
    "    treegrid = parse_input(fpath)\n",
    "    return count_visible_trees(treegrid)"
   ]
  },
  {
   "cell_type": "code",
   "execution_count": 4,
   "id": "793cce1a",
   "metadata": {},
   "outputs": [
    {
     "data": {
      "text/plain": [
       "21"
      ]
     },
     "execution_count": 4,
     "metadata": {},
     "output_type": "execute_result"
    }
   ],
   "source": [
    "part1(test)"
   ]
  },
  {
   "cell_type": "code",
   "execution_count": 5,
   "id": "be938068",
   "metadata": {},
   "outputs": [
    {
     "data": {
      "text/plain": [
       "1827"
      ]
     },
     "execution_count": 5,
     "metadata": {},
     "output_type": "execute_result"
    }
   ],
   "source": [
    "part1(data)"
   ]
  },
  {
   "cell_type": "markdown",
   "id": "f4d9c9f8",
   "metadata": {},
   "source": [
    "## Part 2\n",
    "\n",
    "Content with the amount of tree cover available, the Elves just need to know the best spot to build their tree house: they would like to be able to see a lot of trees.\n",
    "\n",
    "To measure the viewing distance from a given tree, look up, down, left, and right from that tree; stop if you reach an edge or at the first tree that is the same height or taller than the tree under consideration. (If a tree is right on the edge, at least one of its viewing distances will be zero.)\n",
    "\n",
    "The Elves don't care about distant trees taller than those found by the rules above; the proposed tree house has large eaves to keep it dry, so they wouldn't be able to see higher than the tree house anyway.\n",
    "\n",
    "In the example above, consider the middle 5 in the second row:\n",
    "\n",
    "```text\n",
    "30373\n",
    "25512\n",
    "65332\n",
    "33549\n",
    "35390\n",
    "```\n",
    "\n",
    "- Looking up, its view is not blocked; it can see 1 tree (of height 3).\n",
    "- Looking left, its view is blocked immediately; it can see only 1 tree (of height 5, right next to it).\n",
    "- Looking right, its view is not blocked; it can see 2 trees.\n",
    "- Looking down, its view is blocked eventually; it can see 2 trees (one of height 3, then the tree of height 5 that blocks its view).\n",
    "\n",
    "A tree's scenic score is found by multiplying together its viewing distance in each of the four directions. For this tree, this is 4 (found by multiplying 1 * 1 * 2 * 2).\n",
    "\n",
    "However, you can do even better: consider the tree of height 5 in the middle of the fourth row:\n",
    "\n",
    "```text\n",
    "30373\n",
    "25512\n",
    "65332\n",
    "33549\n",
    "35390\n",
    "```\n",
    "    \n",
    "- Looking up, its view is blocked at 2 trees (by another tree with a height of 5).\n",
    "- Looking left, its view is not blocked; it can see 2 trees.\n",
    "- Looking down, its view is also not blocked; it can see 1 tree.\n",
    "- Looking right, its view is blocked at 2 trees (by a massive tree of height 9).\n",
    "\n",
    "This tree's scenic score is 8 (2 * 2 * 1 * 2); this is the ideal spot for the tree house.\n",
    "\n",
    "Consider each tree on your map. What is the highest scenic score possible for any tree?"
   ]
  },
  {
   "cell_type": "code",
   "execution_count": 6,
   "id": "6bca9bbd",
   "metadata": {},
   "outputs": [],
   "source": [
    "def calc_dir_score(arr: np.array) -> int:\n",
    "    \"\"\"Return the scenic score component in one direction\"\"\"\n",
    "    score = 0\n",
    "    for val in arr:\n",
    "        score += 1\n",
    "        if val:\n",
    "            return score\n",
    "    return score\n",
    "\n",
    "def calc_scenic_score(arr: np.array) -> np.array:\n",
    "    \"\"\"Return the scenic score for each tree in the passed array\n",
    "    \n",
    "    :param arr:  numpy array, elements are heights for each tree\n",
    "    \n",
    "    This is a hacky solution. There must be a more elegant\n",
    "    route to the answer!\n",
    "    \"\"\"\n",
    "    nrow, ncol = arr.shape  # handy for calculations later\n",
    "    # Keep a shadow array with scenic score for each tree\n",
    "    scenics = np.zeros(arr.shape, dtype=int)\n",
    "    \n",
    "    # Tree heights can be 0-9; iterate over these values to identify\n",
    "    # the visible landscapes for each tree height\n",
    "    # For each tree at the current height, calculate the scenic score\n",
    "    # from the visible extent in each compass direction\n",
    "    for height in range(10):  # iterate over tree heights\n",
    "        trees = (arr == height).astype(int)  # trees of current height\n",
    "        harr = (arr >= height).astype(int)  # visible extent (1 = view blocked)\n",
    "        for rtree, ctree in np.argwhere(trees):  # iterate over trees of given height\n",
    "            score = 1  # instantiate score, multiplied by a factor for each direction\n",
    "            # up\n",
    "            up = harr.T[ctree][:rtree][::-1]\n",
    "            score *= calc_dir_score(up)\n",
    "            # down\n",
    "            down = harr.T[ctree][rtree+1:]\n",
    "            score *= calc_dir_score(down)\n",
    "            # left\n",
    "            left = harr[rtree][:ctree][::-1]\n",
    "            score *= calc_dir_score(left)\n",
    "            # right\n",
    "            right = harr[rtree][ctree+1:]\n",
    "            score *= calc_dir_score(right)\n",
    "            # Update array with total scenic score\n",
    "            scenics[rtree][ctree] = score\n",
    "    \n",
    "    return scenics\n",
    "\n",
    "def part2(fpath: Path):\n",
    "    \"\"\"Solve the puzzle\n",
    "    \n",
    "    :param fpath:  path to puzzle input\n",
    "    \"\"\"\n",
    "    treegrid = parse_input(fpath)    \n",
    "    scores = calc_scenic_score(treegrid)\n",
    "    return scores.max()"
   ]
  },
  {
   "cell_type": "code",
   "execution_count": 7,
   "id": "ff2e92e7",
   "metadata": {},
   "outputs": [
    {
     "data": {
      "text/plain": [
       "8"
      ]
     },
     "execution_count": 7,
     "metadata": {},
     "output_type": "execute_result"
    }
   ],
   "source": [
    "part2(test)"
   ]
  },
  {
   "cell_type": "code",
   "execution_count": 8,
   "id": "d5d9305f",
   "metadata": {},
   "outputs": [
    {
     "data": {
      "text/plain": [
       "335580"
      ]
     },
     "execution_count": 8,
     "metadata": {},
     "output_type": "execute_result"
    }
   ],
   "source": [
    "part2(data)"
   ]
  },
  {
   "cell_type": "code",
   "execution_count": null,
   "id": "5d52e817",
   "metadata": {},
   "outputs": [],
   "source": []
  }
 ],
 "metadata": {
  "kernelspec": {
   "display_name": "Python 3 (ipykernel)",
   "language": "python",
   "name": "python3"
  },
  "language_info": {
   "codemirror_mode": {
    "name": "ipython",
    "version": 3
   },
   "file_extension": ".py",
   "mimetype": "text/x-python",
   "name": "python",
   "nbconvert_exporter": "python",
   "pygments_lexer": "ipython3",
   "version": "3.10.8"
  }
 },
 "nbformat": 4,
 "nbformat_minor": 5
}
